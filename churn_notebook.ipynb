{
 "cells": [
  {
   "cell_type": "markdown",
   "id": "d45c9089",
   "metadata": {},
   "source": [
    "# Telco Customer Churn\n",
    "\n",
    "link: https://www.kaggle.com/datasets/blastchar/telco-customer-churn"
   ]
  },
  {
   "cell_type": "markdown",
   "id": "323c066e",
   "metadata": {},
   "source": [
    "## Bibliotecas "
   ]
  },
  {
   "cell_type": "code",
   "execution_count": 1,
   "id": "9bc1715a",
   "metadata": {},
   "outputs": [],
   "source": [
    "# manipulação de dados\n",
    "import pandas as pd\n",
    "import numpy as np\n",
    "\n",
    "# pre-processamento\n",
    "from sklearn.preprocessing import OneHotEncoder\n",
    "from sklearn.preprocessing import MinMaxScaler\n",
    "\n",
    "# separação treino e teste\n",
    "from sklearn.model_selection import train_test_split\n",
    "\n",
    "# modelos\n",
    "from sklearn.linear_model import LogisticRegression\n",
    "from sklearn.tree import DecisionTreeClassifier\n",
    "import tensorflow as tf\n",
    "gpus = tf.config.experimental.list_physical_devices('GPU')\n",
    "for gpu in gpus:\n",
    "    tf.config.experimental.set_memory_growth(gpu, True)\n",
    "from tensorflow import keras\n",
    "from tensorflow.keras import layers\n",
    "\n",
    "# metricas\n",
    "from sklearn.metrics import accuracy_score, confusion_matrix"
   ]
  },
  {
   "cell_type": "markdown",
   "id": "42675c2b",
   "metadata": {},
   "source": [
    "## Leitura dos dados "
   ]
  },
  {
   "cell_type": "code",
   "execution_count": 2,
   "id": "21594e62",
   "metadata": {},
   "outputs": [
    {
     "data": {
      "text/html": [
       "<div>\n",
       "<style scoped>\n",
       "    .dataframe tbody tr th:only-of-type {\n",
       "        vertical-align: middle;\n",
       "    }\n",
       "\n",
       "    .dataframe tbody tr th {\n",
       "        vertical-align: top;\n",
       "    }\n",
       "\n",
       "    .dataframe thead th {\n",
       "        text-align: right;\n",
       "    }\n",
       "</style>\n",
       "<table border=\"1\" class=\"dataframe\">\n",
       "  <thead>\n",
       "    <tr style=\"text-align: right;\">\n",
       "      <th></th>\n",
       "      <th>customerID</th>\n",
       "      <th>gender</th>\n",
       "      <th>SeniorCitizen</th>\n",
       "      <th>Partner</th>\n",
       "      <th>Dependents</th>\n",
       "      <th>tenure</th>\n",
       "      <th>PhoneService</th>\n",
       "      <th>MultipleLines</th>\n",
       "      <th>InternetService</th>\n",
       "      <th>OnlineSecurity</th>\n",
       "      <th>...</th>\n",
       "      <th>DeviceProtection</th>\n",
       "      <th>TechSupport</th>\n",
       "      <th>StreamingTV</th>\n",
       "      <th>StreamingMovies</th>\n",
       "      <th>Contract</th>\n",
       "      <th>PaperlessBilling</th>\n",
       "      <th>PaymentMethod</th>\n",
       "      <th>MonthlyCharges</th>\n",
       "      <th>TotalCharges</th>\n",
       "      <th>Churn</th>\n",
       "    </tr>\n",
       "  </thead>\n",
       "  <tbody>\n",
       "    <tr>\n",
       "      <th>0</th>\n",
       "      <td>7590-VHVEG</td>\n",
       "      <td>Female</td>\n",
       "      <td>0</td>\n",
       "      <td>Yes</td>\n",
       "      <td>No</td>\n",
       "      <td>1</td>\n",
       "      <td>No</td>\n",
       "      <td>No phone service</td>\n",
       "      <td>DSL</td>\n",
       "      <td>No</td>\n",
       "      <td>...</td>\n",
       "      <td>No</td>\n",
       "      <td>No</td>\n",
       "      <td>No</td>\n",
       "      <td>No</td>\n",
       "      <td>Month-to-month</td>\n",
       "      <td>Yes</td>\n",
       "      <td>Electronic check</td>\n",
       "      <td>29.85</td>\n",
       "      <td>29.85</td>\n",
       "      <td>No</td>\n",
       "    </tr>\n",
       "    <tr>\n",
       "      <th>1</th>\n",
       "      <td>5575-GNVDE</td>\n",
       "      <td>Male</td>\n",
       "      <td>0</td>\n",
       "      <td>No</td>\n",
       "      <td>No</td>\n",
       "      <td>34</td>\n",
       "      <td>Yes</td>\n",
       "      <td>No</td>\n",
       "      <td>DSL</td>\n",
       "      <td>Yes</td>\n",
       "      <td>...</td>\n",
       "      <td>Yes</td>\n",
       "      <td>No</td>\n",
       "      <td>No</td>\n",
       "      <td>No</td>\n",
       "      <td>One year</td>\n",
       "      <td>No</td>\n",
       "      <td>Mailed check</td>\n",
       "      <td>56.95</td>\n",
       "      <td>1889.5</td>\n",
       "      <td>No</td>\n",
       "    </tr>\n",
       "    <tr>\n",
       "      <th>2</th>\n",
       "      <td>3668-QPYBK</td>\n",
       "      <td>Male</td>\n",
       "      <td>0</td>\n",
       "      <td>No</td>\n",
       "      <td>No</td>\n",
       "      <td>2</td>\n",
       "      <td>Yes</td>\n",
       "      <td>No</td>\n",
       "      <td>DSL</td>\n",
       "      <td>Yes</td>\n",
       "      <td>...</td>\n",
       "      <td>No</td>\n",
       "      <td>No</td>\n",
       "      <td>No</td>\n",
       "      <td>No</td>\n",
       "      <td>Month-to-month</td>\n",
       "      <td>Yes</td>\n",
       "      <td>Mailed check</td>\n",
       "      <td>53.85</td>\n",
       "      <td>108.15</td>\n",
       "      <td>Yes</td>\n",
       "    </tr>\n",
       "    <tr>\n",
       "      <th>3</th>\n",
       "      <td>7795-CFOCW</td>\n",
       "      <td>Male</td>\n",
       "      <td>0</td>\n",
       "      <td>No</td>\n",
       "      <td>No</td>\n",
       "      <td>45</td>\n",
       "      <td>No</td>\n",
       "      <td>No phone service</td>\n",
       "      <td>DSL</td>\n",
       "      <td>Yes</td>\n",
       "      <td>...</td>\n",
       "      <td>Yes</td>\n",
       "      <td>Yes</td>\n",
       "      <td>No</td>\n",
       "      <td>No</td>\n",
       "      <td>One year</td>\n",
       "      <td>No</td>\n",
       "      <td>Bank transfer (automatic)</td>\n",
       "      <td>42.30</td>\n",
       "      <td>1840.75</td>\n",
       "      <td>No</td>\n",
       "    </tr>\n",
       "    <tr>\n",
       "      <th>4</th>\n",
       "      <td>9237-HQITU</td>\n",
       "      <td>Female</td>\n",
       "      <td>0</td>\n",
       "      <td>No</td>\n",
       "      <td>No</td>\n",
       "      <td>2</td>\n",
       "      <td>Yes</td>\n",
       "      <td>No</td>\n",
       "      <td>Fiber optic</td>\n",
       "      <td>No</td>\n",
       "      <td>...</td>\n",
       "      <td>No</td>\n",
       "      <td>No</td>\n",
       "      <td>No</td>\n",
       "      <td>No</td>\n",
       "      <td>Month-to-month</td>\n",
       "      <td>Yes</td>\n",
       "      <td>Electronic check</td>\n",
       "      <td>70.70</td>\n",
       "      <td>151.65</td>\n",
       "      <td>Yes</td>\n",
       "    </tr>\n",
       "  </tbody>\n",
       "</table>\n",
       "<p>5 rows × 21 columns</p>\n",
       "</div>"
      ],
      "text/plain": [
       "   customerID  gender  SeniorCitizen Partner Dependents  tenure PhoneService  \\\n",
       "0  7590-VHVEG  Female              0     Yes         No       1           No   \n",
       "1  5575-GNVDE    Male              0      No         No      34          Yes   \n",
       "2  3668-QPYBK    Male              0      No         No       2          Yes   \n",
       "3  7795-CFOCW    Male              0      No         No      45           No   \n",
       "4  9237-HQITU  Female              0      No         No       2          Yes   \n",
       "\n",
       "      MultipleLines InternetService OnlineSecurity  ... DeviceProtection  \\\n",
       "0  No phone service             DSL             No  ...               No   \n",
       "1                No             DSL            Yes  ...              Yes   \n",
       "2                No             DSL            Yes  ...               No   \n",
       "3  No phone service             DSL            Yes  ...              Yes   \n",
       "4                No     Fiber optic             No  ...               No   \n",
       "\n",
       "  TechSupport StreamingTV StreamingMovies        Contract PaperlessBilling  \\\n",
       "0          No          No              No  Month-to-month              Yes   \n",
       "1          No          No              No        One year               No   \n",
       "2          No          No              No  Month-to-month              Yes   \n",
       "3         Yes          No              No        One year               No   \n",
       "4          No          No              No  Month-to-month              Yes   \n",
       "\n",
       "               PaymentMethod MonthlyCharges  TotalCharges Churn  \n",
       "0           Electronic check          29.85         29.85    No  \n",
       "1               Mailed check          56.95        1889.5    No  \n",
       "2               Mailed check          53.85        108.15   Yes  \n",
       "3  Bank transfer (automatic)          42.30       1840.75    No  \n",
       "4           Electronic check          70.70        151.65   Yes  \n",
       "\n",
       "[5 rows x 21 columns]"
      ]
     },
     "execution_count": 2,
     "metadata": {},
     "output_type": "execute_result"
    }
   ],
   "source": [
    "df_raw = pd.read_csv('WA_Fn-UseC_-Telco-Customer-Churn.csv')\n",
    "df_raw.head()"
   ]
  },
  {
   "cell_type": "markdown",
   "id": "51f12ad6",
   "metadata": {},
   "source": [
    "## Verificação dos dados"
   ]
  },
  {
   "cell_type": "markdown",
   "id": "e753a231",
   "metadata": {},
   "source": [
    "### tamanho dos dados"
   ]
  },
  {
   "cell_type": "code",
   "execution_count": 3,
   "id": "80e5d924",
   "metadata": {},
   "outputs": [
    {
     "name": "stdout",
     "output_type": "stream",
     "text": [
      "Total de linhas:  7043\n",
      "Total de colunas:  21\n"
     ]
    }
   ],
   "source": [
    "print('Total de linhas: ', df_raw.shape[0])\n",
    "print('Total de colunas: ', df_raw.shape[1])"
   ]
  },
  {
   "cell_type": "markdown",
   "id": "5a0ac086",
   "metadata": {},
   "source": [
    "### vertificar dados faltantes"
   ]
  },
  {
   "cell_type": "code",
   "execution_count": 4,
   "id": "10f40c7f",
   "metadata": {},
   "outputs": [
    {
     "data": {
      "text/plain": [
       "customerID          0\n",
       "gender              0\n",
       "SeniorCitizen       0\n",
       "Partner             0\n",
       "Dependents          0\n",
       "tenure              0\n",
       "PhoneService        0\n",
       "MultipleLines       0\n",
       "InternetService     0\n",
       "OnlineSecurity      0\n",
       "OnlineBackup        0\n",
       "DeviceProtection    0\n",
       "TechSupport         0\n",
       "StreamingTV         0\n",
       "StreamingMovies     0\n",
       "Contract            0\n",
       "PaperlessBilling    0\n",
       "PaymentMethod       0\n",
       "MonthlyCharges      0\n",
       "TotalCharges        0\n",
       "Churn               0\n",
       "dtype: int64"
      ]
     },
     "execution_count": 4,
     "metadata": {},
     "output_type": "execute_result"
    }
   ],
   "source": [
    "df_raw.isnull().sum()"
   ]
  },
  {
   "cell_type": "markdown",
   "id": "3560e852",
   "metadata": {},
   "source": [
    "### verificar dados duplicados"
   ]
  },
  {
   "cell_type": "code",
   "execution_count": 5,
   "id": "2f283b35",
   "metadata": {},
   "outputs": [
    {
     "data": {
      "text/plain": [
       "0"
      ]
     },
     "execution_count": 5,
     "metadata": {},
     "output_type": "execute_result"
    }
   ],
   "source": [
    "df_raw.duplicated().sum()"
   ]
  },
  {
   "cell_type": "markdown",
   "id": "110423aa",
   "metadata": {},
   "source": [
    "### tipos dos dados"
   ]
  },
  {
   "cell_type": "code",
   "execution_count": 18,
   "id": "c673afe4",
   "metadata": {},
   "outputs": [
    {
     "data": {
      "text/plain": [
       "customerID           object\n",
       "gender               object\n",
       "SeniorCitizen         int64\n",
       "Partner              object\n",
       "Dependents           object\n",
       "tenure                int64\n",
       "PhoneService         object\n",
       "MultipleLines        object\n",
       "InternetService      object\n",
       "OnlineSecurity       object\n",
       "OnlineBackup         object\n",
       "DeviceProtection     object\n",
       "TechSupport          object\n",
       "StreamingTV          object\n",
       "StreamingMovies      object\n",
       "Contract             object\n",
       "PaperlessBilling     object\n",
       "PaymentMethod        object\n",
       "MonthlyCharges      float64\n",
       "TotalCharges         object\n",
       "Churn                object\n",
       "dtype: object"
      ]
     },
     "execution_count": 18,
     "metadata": {},
     "output_type": "execute_result"
    }
   ],
   "source": [
    "df_raw.dtypes"
   ]
  },
  {
   "cell_type": "markdown",
   "id": "6310bfb2",
   "metadata": {},
   "source": [
    "## Seleção de features"
   ]
  },
  {
   "cell_type": "markdown",
   "id": "52717a9a",
   "metadata": {},
   "source": [
    "**Não precisando do customerID**"
   ]
  },
  {
   "cell_type": "code",
   "execution_count": 7,
   "id": "7d219d42",
   "metadata": {},
   "outputs": [],
   "source": [
    "df = df_raw.copy()\n",
    "# não precisamos do customerID\n",
    "df = df.drop('customerID', axis = 1)\n",
    "#df = df.dropna(subset=['TotalCharges'])\n",
    "\n",
    "# a variavel TotalCharges está como categorico\n",
    "df['TotalCharges'] = df['TotalCharges'].replace(' ', 0).astype(float)\n"
   ]
  },
  {
   "cell_type": "code",
   "execution_count": 19,
   "id": "3ad64a08",
   "metadata": {},
   "outputs": [
    {
     "data": {
      "text/plain": [
       "gender               object\n",
       "SeniorCitizen         int64\n",
       "Partner              object\n",
       "Dependents           object\n",
       "tenure                int64\n",
       "PhoneService         object\n",
       "MultipleLines        object\n",
       "InternetService      object\n",
       "OnlineSecurity       object\n",
       "OnlineBackup         object\n",
       "DeviceProtection     object\n",
       "TechSupport          object\n",
       "StreamingTV          object\n",
       "StreamingMovies      object\n",
       "Contract             object\n",
       "PaperlessBilling     object\n",
       "PaymentMethod        object\n",
       "MonthlyCharges      float64\n",
       "TotalCharges        float64\n",
       "Churn                object\n",
       "dtype: object"
      ]
     },
     "execution_count": 19,
     "metadata": {},
     "output_type": "execute_result"
    }
   ],
   "source": [
    "df.dtypes"
   ]
  },
  {
   "cell_type": "code",
   "execution_count": 8,
   "id": "166bea6f",
   "metadata": {},
   "outputs": [
    {
     "name": "stderr",
     "output_type": "stream",
     "text": [
      "C:\\Users\\Ben-Hur\\anaconda3\\lib\\site-packages\\sklearn\\utils\\validation.py:1688: FutureWarning: Feature names only support names that are all strings. Got feature names with dtypes: ['int', 'str']. An error will be raised in 1.2.\n",
      "  warnings.warn(\n",
      "C:\\Users\\Ben-Hur\\anaconda3\\lib\\site-packages\\sklearn\\utils\\validation.py:1688: FutureWarning: Feature names only support names that are all strings. Got feature names with dtypes: ['int', 'str']. An error will be raised in 1.2.\n",
      "  warnings.warn(\n"
     ]
    },
    {
     "data": {
      "text/plain": [
       "array([[1.        , 0.        , 0.        , ..., 0.01388889, 0.11542289,\n",
       "        0.00343704],\n",
       "       [0.        , 1.        , 1.        , ..., 0.47222222, 0.38507463,\n",
       "        0.21756402],\n",
       "       [0.        , 1.        , 1.        , ..., 0.02777778, 0.35422886,\n",
       "        0.01245279],\n",
       "       ...,\n",
       "       [1.        , 0.        , 0.        , ..., 0.15277778, 0.11293532,\n",
       "        0.03989153],\n",
       "       [0.        , 1.        , 0.        , ..., 0.05555556, 0.55870647,\n",
       "        0.03530306],\n",
       "       [0.        , 1.        , 1.        , ..., 0.91666667, 0.86965174,\n",
       "        0.78810105]])"
      ]
     },
     "execution_count": 8,
     "metadata": {},
     "output_type": "execute_result"
    }
   ],
   "source": [
    "# target\n",
    "#y = df['Churn']\n",
    "y = pd.get_dummies(df['Churn'], drop_first = True)\n",
    "y['Target'] = y['Yes']\n",
    "y.drop('Yes', axis = 1, inplace=True)\n",
    "\n",
    "# x categorico\n",
    "onehotencoder = OneHotEncoder()\n",
    "variaveis_categoricas = df.select_dtypes(include=['object']).drop('Churn', axis=1)\n",
    "x_categorico = onehotencoder.fit_transform(variaveis_categoricas).toarray()\n",
    "x_categorico = pd.DataFrame(x_categorico)\n",
    "\n",
    "# x numerico\n",
    "variaveis_numericas = df.select_dtypes(include=['int','float'])\n",
    "x_numerico = variaveis_numericas\n",
    "\n",
    "# variavel categorica\n",
    "x_all = pd.concat([x_categorico, x_numerico], axis=1)\n",
    "scaler = MinMaxScaler()\n",
    "x = scaler.fit_transform(x_all)\n",
    "x\n"
   ]
  },
  {
   "cell_type": "code",
   "execution_count": 11,
   "id": "066d09bb",
   "metadata": {},
   "outputs": [],
   "source": [
    "x_train, x_test, y_train, y_test = train_test_split(x, y, test_size=.25)"
   ]
  },
  {
   "cell_type": "code",
   "execution_count": 10,
   "id": "2e0ad361",
   "metadata": {},
   "outputs": [
    {
     "data": {
      "text/plain": [
       "(5282, 45)"
      ]
     },
     "execution_count": 10,
     "metadata": {},
     "output_type": "execute_result"
    }
   ],
   "source": [
    "x_train.shape"
   ]
  },
  {
   "cell_type": "code",
   "execution_count": 11,
   "id": "52c6f1e6",
   "metadata": {},
   "outputs": [
    {
     "data": {
      "text/plain": [
       "(1761, 45)"
      ]
     },
     "execution_count": 11,
     "metadata": {},
     "output_type": "execute_result"
    }
   ],
   "source": [
    "x_test.shape"
   ]
  },
  {
   "cell_type": "code",
   "execution_count": 12,
   "id": "3a37444f",
   "metadata": {},
   "outputs": [
    {
     "data": {
      "text/plain": [
       "(5282, 1)"
      ]
     },
     "execution_count": 12,
     "metadata": {},
     "output_type": "execute_result"
    }
   ],
   "source": [
    "y_train.shape"
   ]
  },
  {
   "cell_type": "code",
   "execution_count": 13,
   "id": "2986f8d5",
   "metadata": {},
   "outputs": [
    {
     "data": {
      "text/plain": [
       "(1761, 1)"
      ]
     },
     "execution_count": 13,
     "metadata": {},
     "output_type": "execute_result"
    }
   ],
   "source": [
    "y_test.shape"
   ]
  },
  {
   "cell_type": "markdown",
   "id": "fb0c5285",
   "metadata": {},
   "source": [
    "## Regressão logistica"
   ]
  },
  {
   "cell_type": "code",
   "execution_count": 12,
   "id": "7a93daa1",
   "metadata": {},
   "outputs": [
    {
     "name": "stderr",
     "output_type": "stream",
     "text": [
      "C:\\Users\\Ben-Hur\\anaconda3\\lib\\site-packages\\sklearn\\utils\\validation.py:993: DataConversionWarning: A column-vector y was passed when a 1d array was expected. Please change the shape of y to (n_samples, ), for example using ravel().\n",
      "  y = column_or_1d(y, warn=True)\n",
      "C:\\Users\\Ben-Hur\\anaconda3\\lib\\site-packages\\sklearn\\linear_model\\_logistic.py:814: ConvergenceWarning: lbfgs failed to converge (status=1):\n",
      "STOP: TOTAL NO. of ITERATIONS REACHED LIMIT.\n",
      "\n",
      "Increase the number of iterations (max_iter) or scale the data as shown in:\n",
      "    https://scikit-learn.org/stable/modules/preprocessing.html\n",
      "Please also refer to the documentation for alternative solver options:\n",
      "    https://scikit-learn.org/stable/modules/linear_model.html#logistic-regression\n",
      "  n_iter_i = _check_optimize_result(\n"
     ]
    },
    {
     "data": {
      "text/plain": [
       "LogisticRegression()"
      ]
     },
     "execution_count": 12,
     "metadata": {},
     "output_type": "execute_result"
    }
   ],
   "source": [
    "logistic_model = LogisticRegression()\n",
    "logistic_model.fit(x_train, y_train)"
   ]
  },
  {
   "cell_type": "code",
   "execution_count": 13,
   "id": "e7ea74c6",
   "metadata": {},
   "outputs": [
    {
     "data": {
      "text/plain": [
       "array([1, 0, 0, ..., 0, 0, 0], dtype=uint8)"
      ]
     },
     "execution_count": 13,
     "metadata": {},
     "output_type": "execute_result"
    }
   ],
   "source": [
    "y_pred = logistic_model.predict(x_test)\n",
    "y_pred"
   ]
  },
  {
   "cell_type": "code",
   "execution_count": 14,
   "id": "983e2c14",
   "metadata": {},
   "outputs": [
    {
     "data": {
      "text/plain": [
       "0.814877910278251"
      ]
     },
     "execution_count": 14,
     "metadata": {},
     "output_type": "execute_result"
    }
   ],
   "source": [
    "accuracy_score(y_test, y_pred)"
   ]
  },
  {
   "cell_type": "code",
   "execution_count": 15,
   "id": "0657ed12",
   "metadata": {
    "scrolled": true
   },
   "outputs": [
    {
     "data": {
      "text/plain": [
       "array([[1166,  118],\n",
       "       [ 208,  269]], dtype=int64)"
      ]
     },
     "execution_count": 15,
     "metadata": {},
     "output_type": "execute_result"
    }
   ],
   "source": [
    "cm = confusion_matrix(y_test, y_pred)\n",
    "cm"
   ]
  },
  {
   "cell_type": "code",
   "execution_count": 17,
   "id": "8d30db31",
   "metadata": {},
   "outputs": [
    {
     "data": {
      "text/plain": [
       "['logistic_model.joblib']"
      ]
     },
     "execution_count": 17,
     "metadata": {},
     "output_type": "execute_result"
    }
   ],
   "source": [
    "from joblib import dump\n",
    "\n",
    "# Suponha que 'modelo' seja o seu modelo treinado\n",
    "dump(logistic_model, 'logistic_model.joblib')\n"
   ]
  },
  {
   "cell_type": "markdown",
   "id": "223635ff",
   "metadata": {},
   "source": [
    "## Arvore de decisão"
   ]
  },
  {
   "cell_type": "code",
   "execution_count": 43,
   "id": "8f0788d9",
   "metadata": {},
   "outputs": [
    {
     "name": "stdout",
     "output_type": "stream",
     "text": [
      "Wall time: 8.01 ms\n"
     ]
    },
    {
     "data": {
      "text/plain": [
       "DecisionTreeClassifier(max_depth=2, min_samples_leaf=5)"
      ]
     },
     "execution_count": 43,
     "metadata": {},
     "output_type": "execute_result"
    }
   ],
   "source": [
    "%%time\n",
    "tree_model = DecisionTreeClassifier(max_depth=2,\n",
    "                                   min_samples_leaf = 5)\n",
    "tree_model.fit(x_train, y_train)"
   ]
  },
  {
   "cell_type": "code",
   "execution_count": 44,
   "id": "1cf21188",
   "metadata": {},
   "outputs": [
    {
     "data": {
      "text/plain": [
       "array([1, 1, 0, ..., 0, 0, 0], dtype=uint8)"
      ]
     },
     "execution_count": 44,
     "metadata": {},
     "output_type": "execute_result"
    }
   ],
   "source": [
    "y_pred = tree_model.predict(x_test)\n",
    "y_pred"
   ]
  },
  {
   "cell_type": "code",
   "execution_count": null,
   "id": "bfa40175",
   "metadata": {},
   "outputs": [],
   "source": []
  },
  {
   "cell_type": "code",
   "execution_count": 23,
   "id": "50e026c9",
   "metadata": {},
   "outputs": [
    {
     "data": {
      "text/plain": [
       "0.7637705848949461"
      ]
     },
     "execution_count": 23,
     "metadata": {},
     "output_type": "execute_result"
    }
   ],
   "source": [
    "accuracy1 = accuracy_score(y_test, y_pred)"
   ]
  },
  {
   "cell_type": "code",
   "execution_count": 45,
   "id": "3bd632e7",
   "metadata": {},
   "outputs": [],
   "source": [
    "accuracy2 = accuracy_score(y_test, y_pred)"
   ]
  },
  {
   "cell_type": "code",
   "execution_count": 37,
   "id": "49d535f3",
   "metadata": {},
   "outputs": [
    {
     "data": {
      "text/plain": [
       "array([[1074,  235],\n",
       "       [ 181,  271]], dtype=int64)"
      ]
     },
     "execution_count": 37,
     "metadata": {},
     "output_type": "execute_result"
    }
   ],
   "source": [
    "cm = confusion_matrix(y_test, y_pred)\n",
    "cm"
   ]
  },
  {
   "cell_type": "code",
   "execution_count": 29,
   "id": "8a39ea1d",
   "metadata": {},
   "outputs": [],
   "source": [
    "def treina_arvore_decisao(x_train, y_train, x_test, y_test, max_d, min_s):\n",
    "    modelo = DecisionTreeClassifier(max_depth = max_d,\n",
    "                                   min_samples_leaf = min_s)\n",
    "    modelo.fit(x_train, y_train)\n",
    "    \n",
    "    y_pred = modelo.predict(x_test)\n",
    "    accuracy = accuracy_score(y_test, y_pred)\n",
    "    \n",
    "    return modelo, accuracy"
   ]
  },
  {
   "cell_type": "code",
   "execution_count": 38,
   "id": "bfee592c",
   "metadata": {
    "collapsed": true
   },
   "outputs": [
    {
     "name": "stdout",
     "output_type": "stream",
     "text": [
      "Treinando modelo 1\n",
      "Treinando modelo 2\n",
      "Treinando modelo 3\n",
      "Treinando modelo 4\n",
      "Treinando modelo 5\n",
      "Treinando modelo 6\n",
      "Treinando modelo 7\n",
      "Treinando modelo 8\n",
      "Treinando modelo 9\n",
      "Treinando modelo 10\n",
      "Treinando modelo 11\n",
      "Treinando modelo 12\n",
      "Treinando modelo 13\n",
      "Treinando modelo 14\n",
      "Treinando modelo 15\n",
      "Treinando modelo 16\n",
      "Treinando modelo 17\n",
      "Treinando modelo 18\n",
      "Treinando modelo 19\n",
      "Treinando modelo 20\n",
      "Treinando modelo 21\n",
      "Treinando modelo 22\n",
      "Treinando modelo 23\n",
      "Treinando modelo 24\n",
      "Treinando modelo 25\n",
      "Treinando modelo 26\n",
      "Treinando modelo 27\n",
      "Treinando modelo 28\n",
      "Treinando modelo 29\n",
      "Treinando modelo 30\n",
      "Treinando modelo 1\n",
      "Treinando modelo 2\n",
      "Treinando modelo 3\n",
      "Treinando modelo 4\n",
      "Treinando modelo 5\n",
      "Treinando modelo 6\n",
      "Treinando modelo 7\n",
      "Treinando modelo 8\n",
      "Treinando modelo 9\n",
      "Treinando modelo 10\n",
      "Treinando modelo 11\n",
      "Treinando modelo 12\n",
      "Treinando modelo 13\n",
      "Treinando modelo 14\n",
      "Treinando modelo 15\n",
      "Treinando modelo 16\n",
      "Treinando modelo 17\n",
      "Treinando modelo 18\n",
      "Treinando modelo 19\n",
      "Treinando modelo 20\n",
      "Treinando modelo 21\n",
      "Treinando modelo 22\n",
      "Treinando modelo 23\n",
      "Treinando modelo 24\n",
      "Treinando modelo 25\n",
      "Treinando modelo 26\n",
      "Treinando modelo 27\n",
      "Treinando modelo 28\n",
      "Treinando modelo 29\n",
      "Treinando modelo 30\n",
      "Treinando modelo 1\n",
      "Treinando modelo 2\n",
      "Treinando modelo 3\n",
      "Treinando modelo 4\n",
      "Treinando modelo 5\n",
      "Treinando modelo 6\n",
      "Treinando modelo 7\n",
      "Treinando modelo 8\n",
      "Treinando modelo 9\n",
      "Treinando modelo 10\n",
      "Treinando modelo 11\n",
      "Treinando modelo 12\n",
      "Treinando modelo 13\n",
      "Treinando modelo 14\n",
      "Treinando modelo 15\n",
      "Treinando modelo 16\n",
      "Treinando modelo 17\n",
      "Treinando modelo 18\n",
      "Treinando modelo 19\n",
      "Treinando modelo 20\n",
      "Treinando modelo 21\n",
      "Treinando modelo 22\n",
      "Treinando modelo 23\n",
      "Treinando modelo 24\n",
      "Treinando modelo 25\n",
      "Treinando modelo 26\n",
      "Treinando modelo 27\n",
      "Treinando modelo 28\n",
      "Treinando modelo 29\n",
      "Treinando modelo 30\n",
      "Treinando modelo 1\n",
      "Treinando modelo 2\n",
      "Treinando modelo 3\n",
      "Treinando modelo 4\n",
      "Treinando modelo 5\n",
      "Treinando modelo 6\n",
      "Treinando modelo 7\n",
      "Treinando modelo 8\n",
      "Treinando modelo 9\n",
      "Treinando modelo 10\n",
      "Treinando modelo 11\n",
      "Treinando modelo 12\n",
      "Treinando modelo 13\n",
      "Treinando modelo 14\n",
      "Treinando modelo 15\n",
      "Treinando modelo 16\n",
      "Treinando modelo 17\n",
      "Treinando modelo 18\n",
      "Treinando modelo 19\n",
      "Treinando modelo 20\n",
      "Treinando modelo 21\n",
      "Treinando modelo 22\n",
      "Treinando modelo 23\n",
      "Treinando modelo 24\n",
      "Treinando modelo 25\n",
      "Treinando modelo 26\n",
      "Treinando modelo 27\n",
      "Treinando modelo 28\n",
      "Treinando modelo 29\n",
      "Treinando modelo 30\n",
      "Treinando modelo 1\n",
      "Treinando modelo 2\n",
      "Treinando modelo 3\n",
      "Treinando modelo 4\n",
      "Treinando modelo 5\n",
      "Treinando modelo 6\n",
      "Treinando modelo 7\n",
      "Treinando modelo 8\n",
      "Treinando modelo 9\n",
      "Treinando modelo 10\n",
      "Treinando modelo 11\n",
      "Treinando modelo 12\n",
      "Treinando modelo 13\n",
      "Treinando modelo 14\n",
      "Treinando modelo 15\n",
      "Treinando modelo 16\n",
      "Treinando modelo 17\n",
      "Treinando modelo 18\n",
      "Treinando modelo 19\n",
      "Treinando modelo 20\n",
      "Treinando modelo 21\n",
      "Treinando modelo 22\n",
      "Treinando modelo 23\n",
      "Treinando modelo 24\n",
      "Treinando modelo 25\n",
      "Treinando modelo 26\n",
      "Treinando modelo 27\n",
      "Treinando modelo 28\n",
      "Treinando modelo 29\n",
      "Treinando modelo 30\n",
      "Treinando modelo 1\n",
      "Treinando modelo 2\n",
      "Treinando modelo 3\n",
      "Treinando modelo 4\n",
      "Treinando modelo 5\n",
      "Treinando modelo 6\n",
      "Treinando modelo 7\n",
      "Treinando modelo 8\n",
      "Treinando modelo 9\n",
      "Treinando modelo 10\n",
      "Treinando modelo 11\n",
      "Treinando modelo 12\n",
      "Treinando modelo 13\n",
      "Treinando modelo 14\n",
      "Treinando modelo 15\n",
      "Treinando modelo 16\n",
      "Treinando modelo 17\n",
      "Treinando modelo 18\n",
      "Treinando modelo 19\n",
      "Treinando modelo 20\n",
      "Treinando modelo 21\n",
      "Treinando modelo 22\n",
      "Treinando modelo 23\n",
      "Treinando modelo 24\n",
      "Treinando modelo 25\n",
      "Treinando modelo 26\n",
      "Treinando modelo 27\n",
      "Treinando modelo 28\n",
      "Treinando modelo 29\n",
      "Treinando modelo 30\n",
      "Treinando modelo 1\n",
      "Treinando modelo 2\n",
      "Treinando modelo 3\n",
      "Treinando modelo 4\n",
      "Treinando modelo 5\n",
      "Treinando modelo 6\n",
      "Treinando modelo 7\n",
      "Treinando modelo 8\n",
      "Treinando modelo 9\n",
      "Treinando modelo 10\n",
      "Treinando modelo 11\n",
      "Treinando modelo 12\n",
      "Treinando modelo 13\n",
      "Treinando modelo 14\n",
      "Treinando modelo 15\n",
      "Treinando modelo 16\n",
      "Treinando modelo 17\n",
      "Treinando modelo 18\n",
      "Treinando modelo 19\n",
      "Treinando modelo 20\n",
      "Treinando modelo 21\n",
      "Treinando modelo 22\n",
      "Treinando modelo 23\n",
      "Treinando modelo 24\n",
      "Treinando modelo 25\n",
      "Treinando modelo 26\n",
      "Treinando modelo 27\n",
      "Treinando modelo 28\n",
      "Treinando modelo 29\n",
      "Treinando modelo 30\n",
      "Treinando modelo 1\n",
      "Treinando modelo 2\n",
      "Treinando modelo 3\n",
      "Treinando modelo 4\n",
      "Treinando modelo 5\n",
      "Treinando modelo 6\n",
      "Treinando modelo 7\n",
      "Treinando modelo 8\n",
      "Treinando modelo 9\n",
      "Treinando modelo 10\n",
      "Treinando modelo 11\n",
      "Treinando modelo 12\n",
      "Treinando modelo 13\n",
      "Treinando modelo 14\n",
      "Treinando modelo 15\n",
      "Treinando modelo 16\n",
      "Treinando modelo 17\n",
      "Treinando modelo 18\n",
      "Treinando modelo 19\n",
      "Treinando modelo 20\n",
      "Treinando modelo 21\n",
      "Treinando modelo 22\n",
      "Treinando modelo 23\n",
      "Treinando modelo 24\n",
      "Treinando modelo 25\n",
      "Treinando modelo 26\n",
      "Treinando modelo 27\n",
      "Treinando modelo 28\n",
      "Treinando modelo 29\n",
      "Treinando modelo 30\n",
      "Treinando modelo 1\n",
      "Treinando modelo 2\n",
      "Treinando modelo 3\n",
      "Treinando modelo 4\n",
      "Treinando modelo 5\n",
      "Treinando modelo 6\n",
      "Treinando modelo 7\n",
      "Treinando modelo 8\n",
      "Treinando modelo 9\n",
      "Treinando modelo 10\n",
      "Treinando modelo 11\n",
      "Treinando modelo 12\n",
      "Treinando modelo 13\n",
      "Treinando modelo 14\n",
      "Treinando modelo 15\n",
      "Treinando modelo 16\n",
      "Treinando modelo 17\n",
      "Treinando modelo 18\n",
      "Treinando modelo 19\n",
      "Treinando modelo 20\n",
      "Treinando modelo 21\n",
      "Treinando modelo 22\n",
      "Treinando modelo 23\n",
      "Treinando modelo 24\n",
      "Treinando modelo 25\n",
      "Treinando modelo 26\n",
      "Treinando modelo 27\n",
      "Treinando modelo 28\n",
      "Treinando modelo 29\n",
      "Treinando modelo 30\n",
      "Wall time: 3.73 s\n"
     ]
    }
   ],
   "source": [
    "%%time\n",
    "modelo_list = list()\n",
    "max_d = list()\n",
    "min_s = list()\n",
    "accuracy_list = list()\n",
    "\n",
    "for d in range(1,10):\n",
    "    for s in range(1 ,31):\n",
    "        print('Treinando modelo', s)\n",
    "        max_d.append(d)\n",
    "        min_s.append(s)\n",
    "        modelo, accuracy = treina_arvore_decisao(x_train, y_train, x_test, y_test, d, s)\n",
    "        \n",
    "        modelo_list.append(modelo)\n",
    "        accuracy_list.append(accuracy)\n",
    "        \n",
    "busca_ad = pd.DataFrame(list(zip(max_d, min_s, accuracy_list, modelo_list)),\n",
    "                       columns = ['Max Deph', 'Min Sample Leaf', 'Accuracy', 'Modelo'])\n",
    "#busca_ad"
   ]
  },
  {
   "cell_type": "code",
   "execution_count": 39,
   "id": "7b303a6f",
   "metadata": {},
   "outputs": [
    {
     "data": {
      "text/html": [
       "<div>\n",
       "<style scoped>\n",
       "    .dataframe tbody tr th:only-of-type {\n",
       "        vertical-align: middle;\n",
       "    }\n",
       "\n",
       "    .dataframe tbody tr th {\n",
       "        vertical-align: top;\n",
       "    }\n",
       "\n",
       "    .dataframe thead th {\n",
       "        text-align: right;\n",
       "    }\n",
       "</style>\n",
       "<table border=\"1\" class=\"dataframe\">\n",
       "  <thead>\n",
       "    <tr style=\"text-align: right;\">\n",
       "      <th></th>\n",
       "      <th>Max Deph</th>\n",
       "      <th>Min Sample Leaf</th>\n",
       "      <th>Accuracy</th>\n",
       "      <th>Modelo</th>\n",
       "    </tr>\n",
       "  </thead>\n",
       "  <tbody>\n",
       "    <tr>\n",
       "      <th>109</th>\n",
       "      <td>4</td>\n",
       "      <td>20</td>\n",
       "      <td>0.797274</td>\n",
       "      <td>DecisionTreeClassifier(max_depth=4, min_sample...</td>\n",
       "    </tr>\n",
       "    <tr>\n",
       "      <th>119</th>\n",
       "      <td>4</td>\n",
       "      <td>30</td>\n",
       "      <td>0.797274</td>\n",
       "      <td>DecisionTreeClassifier(max_depth=4, min_sample...</td>\n",
       "    </tr>\n",
       "    <tr>\n",
       "      <th>118</th>\n",
       "      <td>4</td>\n",
       "      <td>29</td>\n",
       "      <td>0.797274</td>\n",
       "      <td>DecisionTreeClassifier(max_depth=4, min_sample...</td>\n",
       "    </tr>\n",
       "    <tr>\n",
       "      <th>117</th>\n",
       "      <td>4</td>\n",
       "      <td>28</td>\n",
       "      <td>0.797274</td>\n",
       "      <td>DecisionTreeClassifier(max_depth=4, min_sample...</td>\n",
       "    </tr>\n",
       "    <tr>\n",
       "      <th>116</th>\n",
       "      <td>4</td>\n",
       "      <td>27</td>\n",
       "      <td>0.797274</td>\n",
       "      <td>DecisionTreeClassifier(max_depth=4, min_sample...</td>\n",
       "    </tr>\n",
       "    <tr>\n",
       "      <th>...</th>\n",
       "      <td>...</td>\n",
       "      <td>...</td>\n",
       "      <td>...</td>\n",
       "      <td>...</td>\n",
       "    </tr>\n",
       "    <tr>\n",
       "      <th>15</th>\n",
       "      <td>1</td>\n",
       "      <td>16</td>\n",
       "      <td>0.743328</td>\n",
       "      <td>DecisionTreeClassifier(max_depth=1, min_sample...</td>\n",
       "    </tr>\n",
       "    <tr>\n",
       "      <th>14</th>\n",
       "      <td>1</td>\n",
       "      <td>15</td>\n",
       "      <td>0.743328</td>\n",
       "      <td>DecisionTreeClassifier(max_depth=1, min_sample...</td>\n",
       "    </tr>\n",
       "    <tr>\n",
       "      <th>13</th>\n",
       "      <td>1</td>\n",
       "      <td>14</td>\n",
       "      <td>0.743328</td>\n",
       "      <td>DecisionTreeClassifier(max_depth=1, min_sample...</td>\n",
       "    </tr>\n",
       "    <tr>\n",
       "      <th>12</th>\n",
       "      <td>1</td>\n",
       "      <td>13</td>\n",
       "      <td>0.743328</td>\n",
       "      <td>DecisionTreeClassifier(max_depth=1, min_sample...</td>\n",
       "    </tr>\n",
       "    <tr>\n",
       "      <th>0</th>\n",
       "      <td>1</td>\n",
       "      <td>1</td>\n",
       "      <td>0.743328</td>\n",
       "      <td>DecisionTreeClassifier(max_depth=1)</td>\n",
       "    </tr>\n",
       "  </tbody>\n",
       "</table>\n",
       "<p>270 rows × 4 columns</p>\n",
       "</div>"
      ],
      "text/plain": [
       "     Max Deph  Min Sample Leaf  Accuracy  \\\n",
       "109         4               20  0.797274   \n",
       "119         4               30  0.797274   \n",
       "118         4               29  0.797274   \n",
       "117         4               28  0.797274   \n",
       "116         4               27  0.797274   \n",
       "..        ...              ...       ...   \n",
       "15          1               16  0.743328   \n",
       "14          1               15  0.743328   \n",
       "13          1               14  0.743328   \n",
       "12          1               13  0.743328   \n",
       "0           1                1  0.743328   \n",
       "\n",
       "                                                Modelo  \n",
       "109  DecisionTreeClassifier(max_depth=4, min_sample...  \n",
       "119  DecisionTreeClassifier(max_depth=4, min_sample...  \n",
       "118  DecisionTreeClassifier(max_depth=4, min_sample...  \n",
       "117  DecisionTreeClassifier(max_depth=4, min_sample...  \n",
       "116  DecisionTreeClassifier(max_depth=4, min_sample...  \n",
       "..                                                 ...  \n",
       "15   DecisionTreeClassifier(max_depth=1, min_sample...  \n",
       "14   DecisionTreeClassifier(max_depth=1, min_sample...  \n",
       "13   DecisionTreeClassifier(max_depth=1, min_sample...  \n",
       "12   DecisionTreeClassifier(max_depth=1, min_sample...  \n",
       "0                  DecisionTreeClassifier(max_depth=1)  \n",
       "\n",
       "[270 rows x 4 columns]"
      ]
     },
     "execution_count": 39,
     "metadata": {},
     "output_type": "execute_result"
    }
   ],
   "source": [
    "busca_ad.sort_values('Accuracy', ascending=False)"
   ]
  },
  {
   "cell_type": "code",
   "execution_count": 41,
   "id": "9a5c752d",
   "metadata": {},
   "outputs": [],
   "source": [
    "modelo_selecionado = busca_ad.iloc[109]['Modelo']"
   ]
  },
  {
   "cell_type": "markdown",
   "id": "d1530b18",
   "metadata": {},
   "source": [
    "## Redes Neurais"
   ]
  },
  {
   "cell_type": "markdown",
   "id": "fc8aa8fa",
   "metadata": {},
   "source": [
    "### Definição do NPL"
   ]
  },
  {
   "cell_type": "code",
   "execution_count": 18,
   "id": "e372b730",
   "metadata": {},
   "outputs": [
    {
     "name": "stdout",
     "output_type": "stream",
     "text": [
      "Model: \"sequential_3\"\n",
      "_________________________________________________________________\n",
      " Layer (type)                Output Shape              Param #   \n",
      "=================================================================\n",
      " dense_4 (Dense)             (None, 20)                920       \n",
      "                                                                 \n",
      " dense_5 (Dense)             (None, 16)                336       \n",
      "                                                                 \n",
      " dense_6 (Dense)             (None, 1)                 17        \n",
      "                                                                 \n",
      "=================================================================\n",
      "Total params: 1,273\n",
      "Trainable params: 1,273\n",
      "Non-trainable params: 0\n",
      "_________________________________________________________________\n"
     ]
    }
   ],
   "source": [
    "modelo_rn = keras.Sequential()\n",
    "\n",
    "# Camada Oculta 1\n",
    "modelo_rn.add(layers.Dense(20,\n",
    "                         activation='tanh',\n",
    "                          input_dim=x_train.shape[1]))\n",
    "\n",
    "# Camada Oculta 2\n",
    "modelo_rn.add(layers.Dense(16,\n",
    "                         activation = 'relu',\n",
    "                         input_dim = x_train.shape[1]))\n",
    "\n",
    "# Camada Saida\n",
    "modelo_rn.add(layers.Dense(1,\n",
    "                          activation = 'sigmoid'))\n",
    "\n",
    "\n",
    "#\n",
    "modelo_rn.compile(loss='binary_crossentropy',\n",
    "                 optimizer = 'adam',\n",
    "                 metrics = 'accuracy')\n",
    "\n",
    "modelo_rn.summary()"
   ]
  },
  {
   "cell_type": "code",
   "execution_count": 19,
   "id": "1a7a96bb",
   "metadata": {},
   "outputs": [
    {
     "name": "stdout",
     "output_type": "stream",
     "text": [
      "Epoch 1/100\n",
      "110/149 [=====================>........] - ETA: 0s - loss: 0.5335 - accuracy: 0.7403WARNING:tensorflow:Early stopping conditioned on metric `val_auc` which is not available. Available metrics are: loss,accuracy,val_loss,val_accuracy\n",
      "149/149 [==============================] - 1s 2ms/step - loss: 0.5151 - accuracy: 0.7486 - val_loss: 0.4520 - val_accuracy: 0.7637\n",
      "Epoch 2/100\n",
      "107/149 [====================>.........] - ETA: 0s - loss: 0.4436 - accuracy: 0.7888WARNING:tensorflow:Early stopping conditioned on metric `val_auc` which is not available. Available metrics are: loss,accuracy,val_loss,val_accuracy\n",
      "149/149 [==============================] - 0s 1ms/step - loss: 0.4389 - accuracy: 0.7921 - val_loss: 0.4345 - val_accuracy: 0.7940\n",
      "Epoch 3/100\n",
      "118/149 [======================>.......] - ETA: 0s - loss: 0.4298 - accuracy: 0.7942WARNING:tensorflow:Early stopping conditioned on metric `val_auc` which is not available. Available metrics are: loss,accuracy,val_loss,val_accuracy\n",
      "149/149 [==============================] - 0s 1ms/step - loss: 0.4280 - accuracy: 0.7968 - val_loss: 0.4275 - val_accuracy: 0.8034\n",
      "Epoch 4/100\n",
      "116/149 [======================>.......] - ETA: 0s - loss: 0.4134 - accuracy: 0.8025WARNING:tensorflow:Early stopping conditioned on metric `val_auc` which is not available. Available metrics are: loss,accuracy,val_loss,val_accuracy\n",
      "149/149 [==============================] - 0s 1ms/step - loss: 0.4237 - accuracy: 0.7972 - val_loss: 0.4298 - val_accuracy: 0.8129\n",
      "Epoch 5/100\n",
      "116/149 [======================>.......] - ETA: 0s - loss: 0.4204 - accuracy: 0.8012WARNING:tensorflow:Early stopping conditioned on metric `val_auc` which is not available. Available metrics are: loss,accuracy,val_loss,val_accuracy\n",
      "149/149 [==============================] - 0s 1ms/step - loss: 0.4213 - accuracy: 0.7997 - val_loss: 0.4342 - val_accuracy: 0.7826\n",
      "Epoch 6/100\n",
      "110/149 [=====================>........] - ETA: 0s - loss: 0.4200 - accuracy: 0.7960WARNING:tensorflow:Early stopping conditioned on metric `val_auc` which is not available. Available metrics are: loss,accuracy,val_loss,val_accuracy\n",
      "149/149 [==============================] - 0s 1ms/step - loss: 0.4190 - accuracy: 0.7993 - val_loss: 0.4195 - val_accuracy: 0.8110\n",
      "Epoch 7/100\n",
      "114/149 [=====================>........] - ETA: 0s - loss: 0.4118 - accuracy: 0.8037WARNING:tensorflow:Early stopping conditioned on metric `val_auc` which is not available. Available metrics are: loss,accuracy,val_loss,val_accuracy\n",
      "149/149 [==============================] - 0s 1ms/step - loss: 0.4179 - accuracy: 0.8005 - val_loss: 0.4262 - val_accuracy: 0.8091\n",
      "Epoch 8/100\n",
      "117/149 [======================>.......] - ETA: 0s - loss: 0.4191 - accuracy: 0.8026WARNING:tensorflow:Early stopping conditioned on metric `val_auc` which is not available. Available metrics are: loss,accuracy,val_loss,val_accuracy\n",
      "149/149 [==============================] - 0s 1ms/step - loss: 0.4173 - accuracy: 0.8050 - val_loss: 0.4196 - val_accuracy: 0.8053\n",
      "Epoch 9/100\n",
      "115/149 [======================>.......] - ETA: 0s - loss: 0.4194 - accuracy: 0.8011WARNING:tensorflow:Early stopping conditioned on metric `val_auc` which is not available. Available metrics are: loss,accuracy,val_loss,val_accuracy\n",
      "149/149 [==============================] - 0s 1ms/step - loss: 0.4156 - accuracy: 0.8037 - val_loss: 0.4261 - val_accuracy: 0.8072\n",
      "Epoch 10/100\n",
      "119/149 [======================>.......] - ETA: 0s - loss: 0.4102 - accuracy: 0.8109WARNING:tensorflow:Early stopping conditioned on metric `val_auc` which is not available. Available metrics are: loss,accuracy,val_loss,val_accuracy\n",
      "149/149 [==============================] - 0s 1ms/step - loss: 0.4155 - accuracy: 0.8056 - val_loss: 0.4171 - val_accuracy: 0.8072\n",
      "Epoch 11/100\n",
      "118/149 [======================>.......] - ETA: 0s - loss: 0.4118 - accuracy: 0.8093WARNING:tensorflow:Early stopping conditioned on metric `val_auc` which is not available. Available metrics are: loss,accuracy,val_loss,val_accuracy\n",
      "149/149 [==============================] - 0s 1ms/step - loss: 0.4136 - accuracy: 0.8056 - val_loss: 0.4181 - val_accuracy: 0.8129\n",
      "Epoch 12/100\n",
      "116/149 [======================>.......] - ETA: 0s - loss: 0.4047 - accuracy: 0.8103WARNING:tensorflow:Early stopping conditioned on metric `val_auc` which is not available. Available metrics are: loss,accuracy,val_loss,val_accuracy\n",
      "149/149 [==============================] - 0s 1ms/step - loss: 0.4124 - accuracy: 0.8073 - val_loss: 0.4184 - val_accuracy: 0.8034\n",
      "Epoch 13/100\n",
      "115/149 [======================>.......] - ETA: 0s - loss: 0.4131 - accuracy: 0.8068WARNING:tensorflow:Early stopping conditioned on metric `val_auc` which is not available. Available metrics are: loss,accuracy,val_loss,val_accuracy\n",
      "149/149 [==============================] - 0s 1ms/step - loss: 0.4127 - accuracy: 0.8062 - val_loss: 0.4160 - val_accuracy: 0.8072\n",
      "Epoch 14/100\n",
      "108/149 [====================>.........] - ETA: 0s - loss: 0.4135 - accuracy: 0.8058WARNING:tensorflow:Early stopping conditioned on metric `val_auc` which is not available. Available metrics are: loss,accuracy,val_loss,val_accuracy\n",
      "149/149 [==============================] - 0s 1ms/step - loss: 0.4115 - accuracy: 0.8073 - val_loss: 0.4208 - val_accuracy: 0.8110\n",
      "Epoch 15/100\n",
      "116/149 [======================>.......] - ETA: 0s - loss: 0.4009 - accuracy: 0.8130WARNING:tensorflow:Early stopping conditioned on metric `val_auc` which is not available. Available metrics are: loss,accuracy,val_loss,val_accuracy\n",
      "149/149 [==============================] - 0s 1ms/step - loss: 0.4117 - accuracy: 0.8073 - val_loss: 0.4158 - val_accuracy: 0.8072\n",
      "Epoch 16/100\n",
      "113/149 [=====================>........] - ETA: 0s - loss: 0.4056 - accuracy: 0.8103WARNING:tensorflow:Early stopping conditioned on metric `val_auc` which is not available. Available metrics are: loss,accuracy,val_loss,val_accuracy\n",
      "149/149 [==============================] - 0s 1ms/step - loss: 0.4111 - accuracy: 0.8064 - val_loss: 0.4230 - val_accuracy: 0.8053\n",
      "Epoch 17/100\n",
      "117/149 [======================>.......] - ETA: 0s - loss: 0.4085 - accuracy: 0.8050WARNING:tensorflow:Early stopping conditioned on metric `val_auc` which is not available. Available metrics are: loss,accuracy,val_loss,val_accuracy\n",
      "149/149 [==============================] - 0s 1ms/step - loss: 0.4111 - accuracy: 0.8029 - val_loss: 0.4204 - val_accuracy: 0.8091\n",
      "Epoch 18/100\n",
      "117/149 [======================>.......] - ETA: 0s - loss: 0.4084 - accuracy: 0.8021WARNING:tensorflow:Early stopping conditioned on metric `val_auc` which is not available. Available metrics are: loss,accuracy,val_loss,val_accuracy\n",
      "149/149 [==============================] - 0s 1ms/step - loss: 0.4086 - accuracy: 0.8056 - val_loss: 0.4217 - val_accuracy: 0.7996\n",
      "Epoch 19/100\n",
      "116/149 [======================>.......] - ETA: 0s - loss: 0.4030 - accuracy: 0.8095WARNING:tensorflow:Early stopping conditioned on metric `val_auc` which is not available. Available metrics are: loss,accuracy,val_loss,val_accuracy\n",
      "149/149 [==============================] - 0s 1ms/step - loss: 0.4089 - accuracy: 0.8079 - val_loss: 0.4231 - val_accuracy: 0.8053\n",
      "Epoch 20/100\n",
      "113/149 [=====================>........] - ETA: 0s - loss: 0.4048 - accuracy: 0.8084WARNING:tensorflow:Early stopping conditioned on metric `val_auc` which is not available. Available metrics are: loss,accuracy,val_loss,val_accuracy\n",
      "149/149 [==============================] - 0s 1ms/step - loss: 0.4077 - accuracy: 0.8085 - val_loss: 0.4163 - val_accuracy: 0.8015\n",
      "Epoch 21/100\n",
      "115/149 [======================>.......] - ETA: 0s - loss: 0.4056 - accuracy: 0.8076WARNING:tensorflow:Early stopping conditioned on metric `val_auc` which is not available. Available metrics are: loss,accuracy,val_loss,val_accuracy\n",
      "149/149 [==============================] - 0s 1ms/step - loss: 0.4061 - accuracy: 0.8083 - val_loss: 0.4178 - val_accuracy: 0.8242\n",
      "Epoch 22/100\n",
      "113/149 [=====================>........] - ETA: 0s - loss: 0.4000 - accuracy: 0.8142WARNING:tensorflow:Early stopping conditioned on metric `val_auc` which is not available. Available metrics are: loss,accuracy,val_loss,val_accuracy\n",
      "149/149 [==============================] - 0s 1ms/step - loss: 0.4061 - accuracy: 0.8094 - val_loss: 0.4160 - val_accuracy: 0.8110\n"
     ]
    },
    {
     "name": "stdout",
     "output_type": "stream",
     "text": [
      "Epoch 23/100\n",
      "115/149 [======================>.......] - ETA: 0s - loss: 0.4016 - accuracy: 0.8136WARNING:tensorflow:Early stopping conditioned on metric `val_auc` which is not available. Available metrics are: loss,accuracy,val_loss,val_accuracy\n",
      "149/149 [==============================] - 0s 1ms/step - loss: 0.4057 - accuracy: 0.8096 - val_loss: 0.4131 - val_accuracy: 0.8034\n",
      "Epoch 24/100\n",
      "118/149 [======================>.......] - ETA: 0s - loss: 0.4030 - accuracy: 0.8106WARNING:tensorflow:Early stopping conditioned on metric `val_auc` which is not available. Available metrics are: loss,accuracy,val_loss,val_accuracy\n",
      "149/149 [==============================] - 0s 1ms/step - loss: 0.4064 - accuracy: 0.8088 - val_loss: 0.4144 - val_accuracy: 0.8091\n",
      "Epoch 25/100\n",
      "111/149 [=====================>........] - ETA: 0s - loss: 0.3992 - accuracy: 0.8102WARNING:tensorflow:Early stopping conditioned on metric `val_auc` which is not available. Available metrics are: loss,accuracy,val_loss,val_accuracy\n",
      "149/149 [==============================] - 0s 1ms/step - loss: 0.4030 - accuracy: 0.8083 - val_loss: 0.4123 - val_accuracy: 0.8091\n",
      "Epoch 26/100\n",
      "110/149 [=====================>........] - ETA: 0s - loss: 0.4041 - accuracy: 0.8082WARNING:tensorflow:Early stopping conditioned on metric `val_auc` which is not available. Available metrics are: loss,accuracy,val_loss,val_accuracy\n",
      "149/149 [==============================] - 0s 1ms/step - loss: 0.4026 - accuracy: 0.8077 - val_loss: 0.4141 - val_accuracy: 0.8091\n",
      "Epoch 27/100\n",
      "110/149 [=====================>........] - ETA: 0s - loss: 0.4025 - accuracy: 0.8085WARNING:tensorflow:Early stopping conditioned on metric `val_auc` which is not available. Available metrics are: loss,accuracy,val_loss,val_accuracy\n",
      "149/149 [==============================] - 0s 1ms/step - loss: 0.4031 - accuracy: 0.8096 - val_loss: 0.4093 - val_accuracy: 0.8072\n",
      "Epoch 28/100\n",
      "112/149 [=====================>........] - ETA: 0s - loss: 0.4019 - accuracy: 0.8080WARNING:tensorflow:Early stopping conditioned on metric `val_auc` which is not available. Available metrics are: loss,accuracy,val_loss,val_accuracy\n",
      "149/149 [==============================] - 0s 1ms/step - loss: 0.4026 - accuracy: 0.8092 - val_loss: 0.4229 - val_accuracy: 0.8091\n",
      "Epoch 29/100\n",
      "105/149 [====================>.........] - ETA: 0s - loss: 0.4002 - accuracy: 0.8092WARNING:tensorflow:Early stopping conditioned on metric `val_auc` which is not available. Available metrics are: loss,accuracy,val_loss,val_accuracy\n",
      "149/149 [==============================] - 0s 1ms/step - loss: 0.4023 - accuracy: 0.8096 - val_loss: 0.4121 - val_accuracy: 0.8129\n",
      "Epoch 30/100\n",
      "109/149 [====================>.........] - ETA: 0s - loss: 0.3942 - accuracy: 0.8154WARNING:tensorflow:Early stopping conditioned on metric `val_auc` which is not available. Available metrics are: loss,accuracy,val_loss,val_accuracy\n",
      "149/149 [==============================] - 0s 1ms/step - loss: 0.4012 - accuracy: 0.8098 - val_loss: 0.4226 - val_accuracy: 0.8072\n",
      "Epoch 31/100\n",
      "110/149 [=====================>........] - ETA: 0s - loss: 0.3927 - accuracy: 0.8165WARNING:tensorflow:Early stopping conditioned on metric `val_auc` which is not available. Available metrics are: loss,accuracy,val_loss,val_accuracy\n",
      "149/149 [==============================] - 0s 1ms/step - loss: 0.3992 - accuracy: 0.8106 - val_loss: 0.4130 - val_accuracy: 0.8166\n",
      "Epoch 32/100\n",
      "111/149 [=====================>........] - ETA: 0s - loss: 0.4057 - accuracy: 0.8066WARNING:tensorflow:Early stopping conditioned on metric `val_auc` which is not available. Available metrics are: loss,accuracy,val_loss,val_accuracy\n",
      "149/149 [==============================] - 0s 1ms/step - loss: 0.3990 - accuracy: 0.8123 - val_loss: 0.4109 - val_accuracy: 0.8034\n",
      "Epoch 33/100\n",
      "110/149 [=====================>........] - ETA: 0s - loss: 0.3954 - accuracy: 0.8151WARNING:tensorflow:Early stopping conditioned on metric `val_auc` which is not available. Available metrics are: loss,accuracy,val_loss,val_accuracy\n",
      "149/149 [==============================] - 0s 1ms/step - loss: 0.3994 - accuracy: 0.8127 - val_loss: 0.4160 - val_accuracy: 0.8015\n",
      "Epoch 34/100\n",
      "113/149 [=====================>........] - ETA: 0s - loss: 0.4031 - accuracy: 0.8095WARNING:tensorflow:Early stopping conditioned on metric `val_auc` which is not available. Available metrics are: loss,accuracy,val_loss,val_accuracy\n",
      "149/149 [==============================] - 0s 1ms/step - loss: 0.3984 - accuracy: 0.8119 - val_loss: 0.4104 - val_accuracy: 0.8034\n",
      "Epoch 35/100\n",
      "115/149 [======================>.......] - ETA: 0s - loss: 0.4001 - accuracy: 0.8098WARNING:tensorflow:Early stopping conditioned on metric `val_auc` which is not available. Available metrics are: loss,accuracy,val_loss,val_accuracy\n",
      "149/149 [==============================] - 0s 1ms/step - loss: 0.3970 - accuracy: 0.8123 - val_loss: 0.4145 - val_accuracy: 0.8166\n",
      "Epoch 36/100\n",
      "117/149 [======================>.......] - ETA: 0s - loss: 0.3981 - accuracy: 0.8096WARNING:tensorflow:Early stopping conditioned on metric `val_auc` which is not available. Available metrics are: loss,accuracy,val_loss,val_accuracy\n",
      "149/149 [==============================] - 0s 1ms/step - loss: 0.3968 - accuracy: 0.8104 - val_loss: 0.4156 - val_accuracy: 0.8072\n",
      "Epoch 37/100\n",
      "117/149 [======================>.......] - ETA: 0s - loss: 0.3945 - accuracy: 0.8130WARNING:tensorflow:Early stopping conditioned on metric `val_auc` which is not available. Available metrics are: loss,accuracy,val_loss,val_accuracy\n",
      "149/149 [==============================] - 0s 1ms/step - loss: 0.3960 - accuracy: 0.8134 - val_loss: 0.4107 - val_accuracy: 0.8072\n",
      "Epoch 38/100\n",
      "112/149 [=====================>........] - ETA: 0s - loss: 0.3886 - accuracy: 0.8178WARNING:tensorflow:Early stopping conditioned on metric `val_auc` which is not available. Available metrics are: loss,accuracy,val_loss,val_accuracy\n",
      "149/149 [==============================] - 0s 1ms/step - loss: 0.3954 - accuracy: 0.8132 - val_loss: 0.4169 - val_accuracy: 0.8147\n",
      "Epoch 39/100\n",
      "110/149 [=====================>........] - ETA: 0s - loss: 0.3935 - accuracy: 0.8145WARNING:tensorflow:Early stopping conditioned on metric `val_auc` which is not available. Available metrics are: loss,accuracy,val_loss,val_accuracy\n",
      "149/149 [==============================] - 0s 1ms/step - loss: 0.3949 - accuracy: 0.8132 - val_loss: 0.4194 - val_accuracy: 0.8015\n",
      "Epoch 40/100\n",
      "110/149 [=====================>........] - ETA: 0s - loss: 0.3996 - accuracy: 0.8114WARNING:tensorflow:Early stopping conditioned on metric `val_auc` which is not available. Available metrics are: loss,accuracy,val_loss,val_accuracy\n",
      "149/149 [==============================] - 0s 1ms/step - loss: 0.3939 - accuracy: 0.8136 - val_loss: 0.4165 - val_accuracy: 0.8147\n",
      "Epoch 41/100\n",
      "111/149 [=====================>........] - ETA: 0s - loss: 0.3960 - accuracy: 0.8150WARNING:tensorflow:Early stopping conditioned on metric `val_auc` which is not available. Available metrics are: loss,accuracy,val_loss,val_accuracy\n",
      "149/149 [==============================] - 0s 1ms/step - loss: 0.3949 - accuracy: 0.8132 - val_loss: 0.4111 - val_accuracy: 0.8091\n",
      "Epoch 42/100\n",
      "110/149 [=====================>........] - ETA: 0s - loss: 0.3984 - accuracy: 0.8119WARNING:tensorflow:Early stopping conditioned on metric `val_auc` which is not available. Available metrics are: loss,accuracy,val_loss,val_accuracy\n",
      "149/149 [==============================] - 0s 1ms/step - loss: 0.3935 - accuracy: 0.8155 - val_loss: 0.4092 - val_accuracy: 0.8072\n",
      "Epoch 43/100\n",
      "111/149 [=====================>........] - ETA: 0s - loss: 0.3910 - accuracy: 0.8159WARNING:tensorflow:Early stopping conditioned on metric `val_auc` which is not available. Available metrics are: loss,accuracy,val_loss,val_accuracy\n",
      "149/149 [==============================] - 0s 1ms/step - loss: 0.3938 - accuracy: 0.8132 - val_loss: 0.4208 - val_accuracy: 0.8166\n",
      "Epoch 44/100\n",
      "112/149 [=====================>........] - ETA: 0s - loss: 0.3936 - accuracy: 0.8133WARNING:tensorflow:Early stopping conditioned on metric `val_auc` which is not available. Available metrics are: loss,accuracy,val_loss,val_accuracy\n",
      "149/149 [==============================] - 0s 1ms/step - loss: 0.3923 - accuracy: 0.8142 - val_loss: 0.4263 - val_accuracy: 0.8053\n"
     ]
    },
    {
     "name": "stdout",
     "output_type": "stream",
     "text": [
      "Epoch 45/100\n",
      "110/149 [=====================>........] - ETA: 0s - loss: 0.3845 - accuracy: 0.8210WARNING:tensorflow:Early stopping conditioned on metric `val_auc` which is not available. Available metrics are: loss,accuracy,val_loss,val_accuracy\n",
      "149/149 [==============================] - 0s 1ms/step - loss: 0.3921 - accuracy: 0.8136 - val_loss: 0.4197 - val_accuracy: 0.8053\n",
      "Epoch 46/100\n",
      "113/149 [=====================>........] - ETA: 0s - loss: 0.3931 - accuracy: 0.8166WARNING:tensorflow:Early stopping conditioned on metric `val_auc` which is not available. Available metrics are: loss,accuracy,val_loss,val_accuracy\n",
      "149/149 [==============================] - 0s 1ms/step - loss: 0.3916 - accuracy: 0.8138 - val_loss: 0.4081 - val_accuracy: 0.8072\n",
      "Epoch 47/100\n",
      "113/149 [=====================>........] - ETA: 0s - loss: 0.3918 - accuracy: 0.8161WARNING:tensorflow:Early stopping conditioned on metric `val_auc` which is not available. Available metrics are: loss,accuracy,val_loss,val_accuracy\n",
      "149/149 [==============================] - 0s 1ms/step - loss: 0.3904 - accuracy: 0.8165 - val_loss: 0.4085 - val_accuracy: 0.7958\n",
      "Epoch 48/100\n",
      "113/149 [=====================>........] - ETA: 0s - loss: 0.3912 - accuracy: 0.8144WARNING:tensorflow:Early stopping conditioned on metric `val_auc` which is not available. Available metrics are: loss,accuracy,val_loss,val_accuracy\n",
      "149/149 [==============================] - 0s 1ms/step - loss: 0.3898 - accuracy: 0.8132 - val_loss: 0.4158 - val_accuracy: 0.8110\n",
      "Epoch 49/100\n",
      "109/149 [====================>.........] - ETA: 0s - loss: 0.3793 - accuracy: 0.8237WARNING:tensorflow:Early stopping conditioned on metric `val_auc` which is not available. Available metrics are: loss,accuracy,val_loss,val_accuracy\n",
      "149/149 [==============================] - 0s 1ms/step - loss: 0.3891 - accuracy: 0.8140 - val_loss: 0.4200 - val_accuracy: 0.8147\n",
      "Epoch 50/100\n",
      "110/149 [=====================>........] - ETA: 0s - loss: 0.3918 - accuracy: 0.8131WARNING:tensorflow:Early stopping conditioned on metric `val_auc` which is not available. Available metrics are: loss,accuracy,val_loss,val_accuracy\n",
      "149/149 [==============================] - 0s 1ms/step - loss: 0.3897 - accuracy: 0.8151 - val_loss: 0.4213 - val_accuracy: 0.8072\n",
      "Epoch 51/100\n",
      "114/149 [=====================>........] - ETA: 0s - loss: 0.3870 - accuracy: 0.8221WARNING:tensorflow:Early stopping conditioned on metric `val_auc` which is not available. Available metrics are: loss,accuracy,val_loss,val_accuracy\n",
      "149/149 [==============================] - 0s 1ms/step - loss: 0.3891 - accuracy: 0.8182 - val_loss: 0.4172 - val_accuracy: 0.8204\n",
      "Epoch 52/100\n",
      "115/149 [======================>.......] - ETA: 0s - loss: 0.3845 - accuracy: 0.8166WARNING:tensorflow:Early stopping conditioned on metric `val_auc` which is not available. Available metrics are: loss,accuracy,val_loss,val_accuracy\n",
      "149/149 [==============================] - 0s 1ms/step - loss: 0.3884 - accuracy: 0.8170 - val_loss: 0.4170 - val_accuracy: 0.8129\n",
      "Epoch 53/100\n",
      "113/149 [=====================>........] - ETA: 0s - loss: 0.3882 - accuracy: 0.8166WARNING:tensorflow:Early stopping conditioned on metric `val_auc` which is not available. Available metrics are: loss,accuracy,val_loss,val_accuracy\n",
      "149/149 [==============================] - 0s 1ms/step - loss: 0.3873 - accuracy: 0.8170 - val_loss: 0.4124 - val_accuracy: 0.8091\n",
      "Epoch 54/100\n",
      "109/149 [====================>.........] - ETA: 0s - loss: 0.3897 - accuracy: 0.8111WARNING:tensorflow:Early stopping conditioned on metric `val_auc` which is not available. Available metrics are: loss,accuracy,val_loss,val_accuracy\n",
      "149/149 [==============================] - 0s 1ms/step - loss: 0.3891 - accuracy: 0.8138 - val_loss: 0.4235 - val_accuracy: 0.8110\n",
      "Epoch 55/100\n",
      "112/149 [=====================>........] - ETA: 0s - loss: 0.3917 - accuracy: 0.8083WARNING:tensorflow:Early stopping conditioned on metric `val_auc` which is not available. Available metrics are: loss,accuracy,val_loss,val_accuracy\n",
      "149/149 [==============================] - 0s 1ms/step - loss: 0.3862 - accuracy: 0.8125 - val_loss: 0.4123 - val_accuracy: 0.8223\n",
      "Epoch 56/100\n",
      "113/149 [=====================>........] - ETA: 0s - loss: 0.3841 - accuracy: 0.8186WARNING:tensorflow:Early stopping conditioned on metric `val_auc` which is not available. Available metrics are: loss,accuracy,val_loss,val_accuracy\n",
      "149/149 [==============================] - 0s 1ms/step - loss: 0.3859 - accuracy: 0.8197 - val_loss: 0.4193 - val_accuracy: 0.8110\n",
      "Epoch 57/100\n",
      "108/149 [====================>.........] - ETA: 0s - loss: 0.3839 - accuracy: 0.8163WARNING:tensorflow:Early stopping conditioned on metric `val_auc` which is not available. Available metrics are: loss,accuracy,val_loss,val_accuracy\n",
      "149/149 [==============================] - 0s 1ms/step - loss: 0.3863 - accuracy: 0.8167 - val_loss: 0.4145 - val_accuracy: 0.7977\n",
      "Epoch 58/100\n",
      "114/149 [=====================>........] - ETA: 0s - loss: 0.3897 - accuracy: 0.8122WARNING:tensorflow:Early stopping conditioned on metric `val_auc` which is not available. Available metrics are: loss,accuracy,val_loss,val_accuracy\n",
      "149/149 [==============================] - 0s 1ms/step - loss: 0.3854 - accuracy: 0.8153 - val_loss: 0.4184 - val_accuracy: 0.8091\n",
      "Epoch 59/100\n",
      "121/149 [=======================>......] - ETA: 0s - loss: 0.3821 - accuracy: 0.8187WARNING:tensorflow:Early stopping conditioned on metric `val_auc` which is not available. Available metrics are: loss,accuracy,val_loss,val_accuracy\n",
      "149/149 [==============================] - 0s 1ms/step - loss: 0.3843 - accuracy: 0.8203 - val_loss: 0.4139 - val_accuracy: 0.8185\n",
      "Epoch 60/100\n",
      "115/149 [======================>.......] - ETA: 0s - loss: 0.3839 - accuracy: 0.8198WARNING:tensorflow:Early stopping conditioned on metric `val_auc` which is not available. Available metrics are: loss,accuracy,val_loss,val_accuracy\n",
      "149/149 [==============================] - 0s 1ms/step - loss: 0.3849 - accuracy: 0.8176 - val_loss: 0.4131 - val_accuracy: 0.8166\n",
      "Epoch 61/100\n",
      "113/149 [=====================>........] - ETA: 0s - loss: 0.3862 - accuracy: 0.8164WARNING:tensorflow:Early stopping conditioned on metric `val_auc` which is not available. Available metrics are: loss,accuracy,val_loss,val_accuracy\n",
      "149/149 [==============================] - 0s 1ms/step - loss: 0.3831 - accuracy: 0.8165 - val_loss: 0.4129 - val_accuracy: 0.8185\n",
      "Epoch 62/100\n",
      "116/149 [======================>.......] - ETA: 0s - loss: 0.3878 - accuracy: 0.8141WARNING:tensorflow:Early stopping conditioned on metric `val_auc` which is not available. Available metrics are: loss,accuracy,val_loss,val_accuracy\n",
      "149/149 [==============================] - 0s 1ms/step - loss: 0.3840 - accuracy: 0.8155 - val_loss: 0.4149 - val_accuracy: 0.8166\n",
      "Epoch 63/100\n",
      "116/149 [======================>.......] - ETA: 0s - loss: 0.3840 - accuracy: 0.8138WARNING:tensorflow:Early stopping conditioned on metric `val_auc` which is not available. Available metrics are: loss,accuracy,val_loss,val_accuracy\n",
      "149/149 [==============================] - 0s 1ms/step - loss: 0.3815 - accuracy: 0.8176 - val_loss: 0.4155 - val_accuracy: 0.8147\n",
      "Epoch 64/100\n",
      "110/149 [=====================>........] - ETA: 0s - loss: 0.3895 - accuracy: 0.8185WARNING:tensorflow:Early stopping conditioned on metric `val_auc` which is not available. Available metrics are: loss,accuracy,val_loss,val_accuracy\n",
      "149/149 [==============================] - 0s 1ms/step - loss: 0.3812 - accuracy: 0.8216 - val_loss: 0.4191 - val_accuracy: 0.8110\n",
      "Epoch 65/100\n",
      "111/149 [=====================>........] - ETA: 0s - loss: 0.3776 - accuracy: 0.8266WARNING:tensorflow:Early stopping conditioned on metric `val_auc` which is not available. Available metrics are: loss,accuracy,val_loss,val_accuracy\n",
      "149/149 [==============================] - 0s 1ms/step - loss: 0.3814 - accuracy: 0.8216 - val_loss: 0.4147 - val_accuracy: 0.8129\n",
      "Epoch 66/100\n",
      "113/149 [=====================>........] - ETA: 0s - loss: 0.3809 - accuracy: 0.8175WARNING:tensorflow:Early stopping conditioned on metric `val_auc` which is not available. Available metrics are: loss,accuracy,val_loss,val_accuracy\n",
      "149/149 [==============================] - 0s 1ms/step - loss: 0.3817 - accuracy: 0.8159 - val_loss: 0.4162 - val_accuracy: 0.8185\n"
     ]
    },
    {
     "name": "stdout",
     "output_type": "stream",
     "text": [
      "Epoch 67/100\n",
      "144/149 [===========================>..] - ETA: 0s - loss: 0.3772 - accuracy: 0.8223WARNING:tensorflow:Early stopping conditioned on metric `val_auc` which is not available. Available metrics are: loss,accuracy,val_loss,val_accuracy\n",
      "149/149 [==============================] - 0s 1ms/step - loss: 0.3792 - accuracy: 0.8210 - val_loss: 0.4185 - val_accuracy: 0.8147\n",
      "Epoch 68/100\n",
      "118/149 [======================>.......] - ETA: 0s - loss: 0.3735 - accuracy: 0.8218WARNING:tensorflow:Early stopping conditioned on metric `val_auc` which is not available. Available metrics are: loss,accuracy,val_loss,val_accuracy\n",
      "149/149 [==============================] - 0s 1ms/step - loss: 0.3801 - accuracy: 0.8178 - val_loss: 0.4137 - val_accuracy: 0.8185\n",
      "Epoch 69/100\n",
      "115/149 [======================>.......] - ETA: 0s - loss: 0.3743 - accuracy: 0.8288WARNING:tensorflow:Early stopping conditioned on metric `val_auc` which is not available. Available metrics are: loss,accuracy,val_loss,val_accuracy\n",
      "149/149 [==============================] - 0s 1ms/step - loss: 0.3795 - accuracy: 0.8233 - val_loss: 0.4206 - val_accuracy: 0.8147\n",
      "Epoch 70/100\n",
      "120/149 [=======================>......] - ETA: 0s - loss: 0.3786 - accuracy: 0.8203WARNING:tensorflow:Early stopping conditioned on metric `val_auc` which is not available. Available metrics are: loss,accuracy,val_loss,val_accuracy\n",
      "149/149 [==============================] - 0s 1ms/step - loss: 0.3792 - accuracy: 0.8205 - val_loss: 0.4219 - val_accuracy: 0.8147\n",
      "Epoch 71/100\n",
      "118/149 [======================>.......] - ETA: 0s - loss: 0.3753 - accuracy: 0.8218WARNING:tensorflow:Early stopping conditioned on metric `val_auc` which is not available. Available metrics are: loss,accuracy,val_loss,val_accuracy\n",
      "149/149 [==============================] - 0s 1ms/step - loss: 0.3769 - accuracy: 0.8216 - val_loss: 0.4268 - val_accuracy: 0.8129\n",
      "Epoch 72/100\n",
      "121/149 [=======================>......] - ETA: 0s - loss: 0.3735 - accuracy: 0.8226WARNING:tensorflow:Early stopping conditioned on metric `val_auc` which is not available. Available metrics are: loss,accuracy,val_loss,val_accuracy\n",
      "149/149 [==============================] - 0s 1ms/step - loss: 0.3780 - accuracy: 0.8207 - val_loss: 0.4182 - val_accuracy: 0.8072\n",
      "Epoch 73/100\n",
      "118/149 [======================>.......] - ETA: 0s - loss: 0.3749 - accuracy: 0.8223WARNING:tensorflow:Early stopping conditioned on metric `val_auc` which is not available. Available metrics are: loss,accuracy,val_loss,val_accuracy\n",
      "149/149 [==============================] - 0s 1ms/step - loss: 0.3767 - accuracy: 0.8220 - val_loss: 0.4127 - val_accuracy: 0.8129\n",
      "Epoch 74/100\n",
      "125/149 [========================>.....] - ETA: 0s - loss: 0.3732 - accuracy: 0.8223WARNING:tensorflow:Early stopping conditioned on metric `val_auc` which is not available. Available metrics are: loss,accuracy,val_loss,val_accuracy\n",
      "149/149 [==============================] - 0s 1ms/step - loss: 0.3770 - accuracy: 0.8184 - val_loss: 0.4183 - val_accuracy: 0.8053\n",
      "Epoch 75/100\n",
      "119/149 [======================>.......] - ETA: 0s - loss: 0.3774 - accuracy: 0.8238WARNING:tensorflow:Early stopping conditioned on metric `val_auc` which is not available. Available metrics are: loss,accuracy,val_loss,val_accuracy\n",
      "149/149 [==============================] - 0s 1ms/step - loss: 0.3752 - accuracy: 0.8212 - val_loss: 0.4177 - val_accuracy: 0.8166\n",
      "Epoch 76/100\n",
      "120/149 [=======================>......] - ETA: 0s - loss: 0.3793 - accuracy: 0.8201WARNING:tensorflow:Early stopping conditioned on metric `val_auc` which is not available. Available metrics are: loss,accuracy,val_loss,val_accuracy\n",
      "149/149 [==============================] - 0s 1ms/step - loss: 0.3753 - accuracy: 0.8216 - val_loss: 0.4188 - val_accuracy: 0.8166\n",
      "Epoch 77/100\n",
      "121/149 [=======================>......] - ETA: 0s - loss: 0.3751 - accuracy: 0.8246WARNING:tensorflow:Early stopping conditioned on metric `val_auc` which is not available. Available metrics are: loss,accuracy,val_loss,val_accuracy\n",
      "149/149 [==============================] - 0s 1ms/step - loss: 0.3730 - accuracy: 0.8250 - val_loss: 0.4170 - val_accuracy: 0.8166\n",
      "Epoch 78/100\n",
      "119/149 [======================>.......] - ETA: 0s - loss: 0.3727 - accuracy: 0.8214WARNING:tensorflow:Early stopping conditioned on metric `val_auc` which is not available. Available metrics are: loss,accuracy,val_loss,val_accuracy\n",
      "149/149 [==============================] - 0s 1ms/step - loss: 0.3741 - accuracy: 0.8220 - val_loss: 0.4210 - val_accuracy: 0.8072\n",
      "Epoch 79/100\n",
      "119/149 [======================>.......] - ETA: 0s - loss: 0.3752 - accuracy: 0.8204WARNING:tensorflow:Early stopping conditioned on metric `val_auc` which is not available. Available metrics are: loss,accuracy,val_loss,val_accuracy\n",
      "149/149 [==============================] - 0s 1ms/step - loss: 0.3745 - accuracy: 0.8224 - val_loss: 0.4193 - val_accuracy: 0.8015\n",
      "Epoch 80/100\n",
      "115/149 [======================>.......] - ETA: 0s - loss: 0.3677 - accuracy: 0.8204WARNING:tensorflow:Early stopping conditioned on metric `val_auc` which is not available. Available metrics are: loss,accuracy,val_loss,val_accuracy\n",
      "149/149 [==============================] - 0s 1ms/step - loss: 0.3728 - accuracy: 0.8205 - val_loss: 0.4192 - val_accuracy: 0.8129\n",
      "Epoch 81/100\n",
      "113/149 [=====================>........] - ETA: 0s - loss: 0.3676 - accuracy: 0.8252WARNING:tensorflow:Early stopping conditioned on metric `val_auc` which is not available. Available metrics are: loss,accuracy,val_loss,val_accuracy\n",
      "149/149 [==============================] - 0s 1ms/step - loss: 0.3732 - accuracy: 0.8216 - val_loss: 0.4334 - val_accuracy: 0.8015\n",
      "Epoch 82/100\n",
      "115/149 [======================>.......] - ETA: 0s - loss: 0.3707 - accuracy: 0.8234WARNING:tensorflow:Early stopping conditioned on metric `val_auc` which is not available. Available metrics are: loss,accuracy,val_loss,val_accuracy\n",
      "149/149 [==============================] - 0s 1ms/step - loss: 0.3723 - accuracy: 0.8243 - val_loss: 0.4224 - val_accuracy: 0.8166\n",
      "Epoch 83/100\n",
      "116/149 [======================>.......] - ETA: 0s - loss: 0.3687 - accuracy: 0.8262WARNING:tensorflow:Early stopping conditioned on metric `val_auc` which is not available. Available metrics are: loss,accuracy,val_loss,val_accuracy\n",
      "149/149 [==============================] - 0s 1ms/step - loss: 0.3717 - accuracy: 0.8239 - val_loss: 0.4169 - val_accuracy: 0.8015\n",
      "Epoch 84/100\n",
      "114/149 [=====================>........] - ETA: 0s - loss: 0.3701 - accuracy: 0.8229WARNING:tensorflow:Early stopping conditioned on metric `val_auc` which is not available. Available metrics are: loss,accuracy,val_loss,val_accuracy\n",
      "149/149 [==============================] - 0s 1ms/step - loss: 0.3722 - accuracy: 0.8195 - val_loss: 0.4160 - val_accuracy: 0.8110\n",
      "Epoch 85/100\n",
      "106/149 [====================>.........] - ETA: 0s - loss: 0.3716 - accuracy: 0.8190WARNING:tensorflow:Early stopping conditioned on metric `val_auc` which is not available. Available metrics are: loss,accuracy,val_loss,val_accuracy\n",
      "149/149 [==============================] - 0s 1ms/step - loss: 0.3715 - accuracy: 0.8220 - val_loss: 0.4310 - val_accuracy: 0.8166\n",
      "Epoch 86/100\n",
      "112/149 [=====================>........] - ETA: 0s - loss: 0.3700 - accuracy: 0.8220WARNING:tensorflow:Early stopping conditioned on metric `val_auc` which is not available. Available metrics are: loss,accuracy,val_loss,val_accuracy\n",
      "149/149 [==============================] - 0s 1ms/step - loss: 0.3693 - accuracy: 0.8245 - val_loss: 0.4185 - val_accuracy: 0.8110\n",
      "Epoch 87/100\n",
      "115/149 [======================>.......] - ETA: 0s - loss: 0.3592 - accuracy: 0.8356WARNING:tensorflow:Early stopping conditioned on metric `val_auc` which is not available. Available metrics are: loss,accuracy,val_loss,val_accuracy\n",
      "149/149 [==============================] - 0s 1ms/step - loss: 0.3691 - accuracy: 0.8250 - val_loss: 0.4224 - val_accuracy: 0.8110\n",
      "Epoch 88/100\n",
      "119/149 [======================>.......] - ETA: 0s - loss: 0.3621 - accuracy: 0.8301WARNING:tensorflow:Early stopping conditioned on metric `val_auc` which is not available. Available metrics are: loss,accuracy,val_loss,val_accuracy\n",
      "149/149 [==============================] - 0s 1ms/step - loss: 0.3690 - accuracy: 0.8252 - val_loss: 0.4323 - val_accuracy: 0.8147\n"
     ]
    },
    {
     "name": "stdout",
     "output_type": "stream",
     "text": [
      "Epoch 89/100\n",
      "121/149 [=======================>......] - ETA: 0s - loss: 0.3732 - accuracy: 0.8208WARNING:tensorflow:Early stopping conditioned on metric `val_auc` which is not available. Available metrics are: loss,accuracy,val_loss,val_accuracy\n",
      "149/149 [==============================] - 0s 1ms/step - loss: 0.3693 - accuracy: 0.8235 - val_loss: 0.4278 - val_accuracy: 0.8147\n",
      "Epoch 90/100\n",
      "122/149 [=======================>......] - ETA: 0s - loss: 0.3679 - accuracy: 0.8245WARNING:tensorflow:Early stopping conditioned on metric `val_auc` which is not available. Available metrics are: loss,accuracy,val_loss,val_accuracy\n",
      "149/149 [==============================] - 0s 1ms/step - loss: 0.3681 - accuracy: 0.8260 - val_loss: 0.4318 - val_accuracy: 0.8110\n",
      "Epoch 91/100\n",
      "120/149 [=======================>......] - ETA: 0s - loss: 0.3718 - accuracy: 0.8263WARNING:tensorflow:Early stopping conditioned on metric `val_auc` which is not available. Available metrics are: loss,accuracy,val_loss,val_accuracy\n",
      "149/149 [==============================] - 0s 1ms/step - loss: 0.3695 - accuracy: 0.8268 - val_loss: 0.4256 - val_accuracy: 0.8110\n",
      "Epoch 92/100\n",
      "121/149 [=======================>......] - ETA: 0s - loss: 0.3680 - accuracy: 0.8264WARNING:tensorflow:Early stopping conditioned on metric `val_auc` which is not available. Available metrics are: loss,accuracy,val_loss,val_accuracy\n",
      "149/149 [==============================] - 0s 1ms/step - loss: 0.3672 - accuracy: 0.8260 - val_loss: 0.4291 - val_accuracy: 0.7902\n",
      "Epoch 93/100\n",
      "120/149 [=======================>......] - ETA: 0s - loss: 0.3680 - accuracy: 0.8219WARNING:tensorflow:Early stopping conditioned on metric `val_auc` which is not available. Available metrics are: loss,accuracy,val_loss,val_accuracy\n",
      "149/149 [==============================] - 0s 1ms/step - loss: 0.3679 - accuracy: 0.8231 - val_loss: 0.4292 - val_accuracy: 0.8166\n",
      "Epoch 94/100\n",
      "122/149 [=======================>......] - ETA: 0s - loss: 0.3624 - accuracy: 0.8279WARNING:tensorflow:Early stopping conditioned on metric `val_auc` which is not available. Available metrics are: loss,accuracy,val_loss,val_accuracy\n",
      "149/149 [==============================] - 0s 1ms/step - loss: 0.3679 - accuracy: 0.8231 - val_loss: 0.4252 - val_accuracy: 0.8053\n",
      "Epoch 95/100\n",
      "122/149 [=======================>......] - ETA: 0s - loss: 0.3634 - accuracy: 0.8274WARNING:tensorflow:Early stopping conditioned on metric `val_auc` which is not available. Available metrics are: loss,accuracy,val_loss,val_accuracy\n",
      "149/149 [==============================] - 0s 1ms/step - loss: 0.3661 - accuracy: 0.8264 - val_loss: 0.4237 - val_accuracy: 0.8091\n",
      "Epoch 96/100\n",
      "120/149 [=======================>......] - ETA: 0s - loss: 0.3690 - accuracy: 0.8242WARNING:tensorflow:Early stopping conditioned on metric `val_auc` which is not available. Available metrics are: loss,accuracy,val_loss,val_accuracy\n",
      "149/149 [==============================] - 0s 1ms/step - loss: 0.3668 - accuracy: 0.8245 - val_loss: 0.4313 - val_accuracy: 0.8147\n",
      "Epoch 97/100\n",
      "121/149 [=======================>......] - ETA: 0s - loss: 0.3630 - accuracy: 0.8280WARNING:tensorflow:Early stopping conditioned on metric `val_auc` which is not available. Available metrics are: loss,accuracy,val_loss,val_accuracy\n",
      "149/149 [==============================] - 0s 1ms/step - loss: 0.3638 - accuracy: 0.8264 - val_loss: 0.4235 - val_accuracy: 0.7996\n",
      "Epoch 98/100\n",
      "115/149 [======================>.......] - ETA: 0s - loss: 0.3682 - accuracy: 0.8236WARNING:tensorflow:Early stopping conditioned on metric `val_auc` which is not available. Available metrics are: loss,accuracy,val_loss,val_accuracy\n",
      "149/149 [==============================] - 0s 1ms/step - loss: 0.3639 - accuracy: 0.8271 - val_loss: 0.4338 - val_accuracy: 0.8110\n",
      "Epoch 99/100\n",
      "120/149 [=======================>......] - ETA: 0s - loss: 0.3674 - accuracy: 0.8279WARNING:tensorflow:Early stopping conditioned on metric `val_auc` which is not available. Available metrics are: loss,accuracy,val_loss,val_accuracy\n",
      "149/149 [==============================] - 0s 1ms/step - loss: 0.3637 - accuracy: 0.8279 - val_loss: 0.4345 - val_accuracy: 0.8072\n",
      "Epoch 100/100\n",
      "120/149 [=======================>......] - ETA: 0s - loss: 0.3611 - accuracy: 0.8299WARNING:tensorflow:Early stopping conditioned on metric `val_auc` which is not available. Available metrics are: loss,accuracy,val_loss,val_accuracy\n",
      "149/149 [==============================] - 0s 1ms/step - loss: 0.3637 - accuracy: 0.8296 - val_loss: 0.4293 - val_accuracy: 0.8072\n"
     ]
    }
   ],
   "source": [
    "rna_es = tf.keras.callbacks.EarlyStopping(\n",
    "    monitor=\"val_auc\",\n",
    "    min_delta=0.01,\n",
    "    patience = 20,\n",
    "    verbose=2,\n",
    "    mode='max',\n",
    "    restore_best_weights=True)\n",
    "\n",
    "historico = modelo_rn.fit(x=x_train, \n",
    "                      y=y_train,\n",
    "                      epochs=100,\n",
    "                      batch_size=32,\n",
    "                      validation_split=0.1,\n",
    "                      verbose=1,\n",
    "                      callbacks=[rna_es])"
   ]
  },
  {
   "cell_type": "code",
   "execution_count": 24,
   "id": "99492af8",
   "metadata": {},
   "outputs": [
    {
     "name": "stdout",
     "output_type": "stream",
     "text": [
      "56/56 [==============================] - 0s 871us/step - loss: 0.4264 - accuracy: 0.7973\n",
      "Acurácia do modelo no conjunto de teste: 79.73%\n"
     ]
    }
   ],
   "source": [
    "# Avaliando o modelo no conjunto de teste\n",
    "loss, accuracy = modelo_rn.evaluate(x_test, y_test)\n",
    "print(f'Acurácia do modelo no conjunto de teste: {accuracy * 100:.2f}%')"
   ]
  },
  {
   "cell_type": "markdown",
   "id": "7ab659e5",
   "metadata": {},
   "source": [
    "### Melhorando os hiperparametros"
   ]
  },
  {
   "cell_type": "code",
   "execution_count": 25,
   "id": "d02e7536",
   "metadata": {},
   "outputs": [
    {
     "ename": "IndentationError",
     "evalue": "expected an indented block (1339553446.py, line 1)",
     "output_type": "error",
     "traceback": [
      "\u001b[1;36m  File \u001b[1;32m\"C:\\Users\\Ben-Hur\\AppData\\Local\\Temp\\ipykernel_15748\\1339553446.py\"\u001b[1;36m, line \u001b[1;32m1\u001b[0m\n\u001b[1;33m    def treina_modelo_rn():\u001b[0m\n\u001b[1;37m                           ^\u001b[0m\n\u001b[1;31mIndentationError\u001b[0m\u001b[1;31m:\u001b[0m expected an indented block\n"
     ]
    }
   ],
   "source": [
    "def treina_modelo_rn(x_treino, y_treino, x_teste, y_teste, ncc1, ncc2):\n",
    "    \n",
    "    modelo_rn = keras.Sequential()\n",
    "\n",
    "    # Camada Oculta 1\n",
    "    modelo_rn.add(layers.Dense(nnc1,\n",
    "                             activation='tanh',\n",
    "                              input_dim=x_train.shape[1]))\n",
    "\n",
    "    # Camada Oculta 2\n",
    "    modelo_rn.add(layers.Dense(nnc2,\n",
    "                             activation = 'relu',\n",
    "                             input_dim = x_train.shape[1]))\n",
    "\n",
    "    # Camada Saida\n",
    "    modelo_rn.add(layers.Dense(1,\n",
    "                              activation = 'sigmoid'))\n",
    "\n",
    "\n",
    "    #\n",
    "    modelo_rn.compile(loss='binary_crossentropy',\n",
    "                     optimizer = 'adam',\n",
    "                     metrics = 'accuracy')\n",
    "\n",
    "    \n",
    "        # Treinamento do Modelo RNA\n",
    "    rna_es = tf.keras.callbacks.EarlyStopping(\n",
    "    monitor=\"val_auc\",\n",
    "    min_delta=0.01,\n",
    "    patience = 5,\n",
    "    verbose=0,\n",
    "    mode='max',\n",
    "    restore_best_weights=True)\n",
    "\n",
    "    historico = model.fit(x=x_train, \n",
    "                          y=y_train,\n",
    "                          epochs=100,\n",
    "                          batch_size=32,\n",
    "                          validation_split=0.1,\n",
    "                          verbose=0,\n",
    "                          callbacks=[rna_es])"
   ]
  },
  {
   "cell_type": "code",
   "execution_count": null,
   "id": "d6e78d1a",
   "metadata": {},
   "outputs": [],
   "source": []
  },
  {
   "cell_type": "code",
   "execution_count": null,
   "id": "4d1bbe23",
   "metadata": {},
   "outputs": [],
   "source": []
  },
  {
   "cell_type": "code",
   "execution_count": null,
   "id": "aa13dc7a",
   "metadata": {},
   "outputs": [],
   "source": []
  },
  {
   "cell_type": "code",
   "execution_count": null,
   "id": "819a0b2b",
   "metadata": {},
   "outputs": [],
   "source": []
  },
  {
   "cell_type": "code",
   "execution_count": null,
   "id": "c8956d6a",
   "metadata": {},
   "outputs": [],
   "source": []
  },
  {
   "cell_type": "code",
   "execution_count": null,
   "id": "64b5dc55",
   "metadata": {},
   "outputs": [],
   "source": []
  },
  {
   "cell_type": "code",
   "execution_count": null,
   "id": "08f838c0",
   "metadata": {},
   "outputs": [],
   "source": []
  },
  {
   "cell_type": "code",
   "execution_count": null,
   "id": "bf220275",
   "metadata": {},
   "outputs": [],
   "source": []
  },
  {
   "cell_type": "code",
   "execution_count": null,
   "id": "dfd1e66c",
   "metadata": {},
   "outputs": [],
   "source": []
  },
  {
   "cell_type": "code",
   "execution_count": null,
   "id": "91bc50e9",
   "metadata": {},
   "outputs": [],
   "source": []
  },
  {
   "cell_type": "code",
   "execution_count": null,
   "id": "f6b56315",
   "metadata": {},
   "outputs": [],
   "source": []
  }
 ],
 "metadata": {
  "kernelspec": {
   "display_name": "Python 3 (ipykernel)",
   "language": "python",
   "name": "python3"
  },
  "language_info": {
   "codemirror_mode": {
    "name": "ipython",
    "version": 3
   },
   "file_extension": ".py",
   "mimetype": "text/x-python",
   "name": "python",
   "nbconvert_exporter": "python",
   "pygments_lexer": "ipython3",
   "version": "3.9.13"
  }
 },
 "nbformat": 4,
 "nbformat_minor": 5
}
