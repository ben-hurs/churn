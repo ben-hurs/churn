{
 "cells": [
  {
   "cell_type": "markdown",
   "id": "d45c9089",
   "metadata": {},
   "source": [
    "# Telco Customer Churn\n",
    "\n",
    "link: https://www.kaggle.com/datasets/blastchar/telco-customer-churn"
   ]
  },
  {
   "cell_type": "markdown",
   "id": "323c066e",
   "metadata": {},
   "source": [
    "## Bibliotecas "
   ]
  },
  {
   "cell_type": "code",
   "execution_count": 1,
   "id": "9bc1715a",
   "metadata": {},
   "outputs": [],
   "source": [
    "# manipulação de dados\n",
    "import pandas as pd\n",
    "import numpy as np\n",
    "\n",
    "# pre-processamento\n",
    "from sklearn.preprocessing import OneHotEncoder\n",
    "from sklearn.preprocessing import MinMaxScaler\n",
    "\n",
    "# separação treino e teste\n",
    "from sklearn.model_selection import train_test_split\n",
    "\n",
    "# modelos\n",
    "from sklearn.linear_model import LogisticRegression\n",
    "from sklearn.tree import DecisionTreeClassifier\n",
    "\n",
    "# metricas\n",
    "from sklearn.metrics import accuracy_score, confusion_matrix"
   ]
  },
  {
   "cell_type": "markdown",
   "id": "42675c2b",
   "metadata": {},
   "source": [
    "## Leitura dos dados "
   ]
  },
  {
   "cell_type": "code",
   "execution_count": 2,
   "id": "21594e62",
   "metadata": {},
   "outputs": [
    {
     "data": {
      "text/html": [
       "<div>\n",
       "<style scoped>\n",
       "    .dataframe tbody tr th:only-of-type {\n",
       "        vertical-align: middle;\n",
       "    }\n",
       "\n",
       "    .dataframe tbody tr th {\n",
       "        vertical-align: top;\n",
       "    }\n",
       "\n",
       "    .dataframe thead th {\n",
       "        text-align: right;\n",
       "    }\n",
       "</style>\n",
       "<table border=\"1\" class=\"dataframe\">\n",
       "  <thead>\n",
       "    <tr style=\"text-align: right;\">\n",
       "      <th></th>\n",
       "      <th>customerID</th>\n",
       "      <th>gender</th>\n",
       "      <th>SeniorCitizen</th>\n",
       "      <th>Partner</th>\n",
       "      <th>Dependents</th>\n",
       "      <th>tenure</th>\n",
       "      <th>PhoneService</th>\n",
       "      <th>MultipleLines</th>\n",
       "      <th>InternetService</th>\n",
       "      <th>OnlineSecurity</th>\n",
       "      <th>...</th>\n",
       "      <th>DeviceProtection</th>\n",
       "      <th>TechSupport</th>\n",
       "      <th>StreamingTV</th>\n",
       "      <th>StreamingMovies</th>\n",
       "      <th>Contract</th>\n",
       "      <th>PaperlessBilling</th>\n",
       "      <th>PaymentMethod</th>\n",
       "      <th>MonthlyCharges</th>\n",
       "      <th>TotalCharges</th>\n",
       "      <th>Churn</th>\n",
       "    </tr>\n",
       "  </thead>\n",
       "  <tbody>\n",
       "    <tr>\n",
       "      <th>0</th>\n",
       "      <td>7590-VHVEG</td>\n",
       "      <td>Female</td>\n",
       "      <td>0</td>\n",
       "      <td>Yes</td>\n",
       "      <td>No</td>\n",
       "      <td>1</td>\n",
       "      <td>No</td>\n",
       "      <td>No phone service</td>\n",
       "      <td>DSL</td>\n",
       "      <td>No</td>\n",
       "      <td>...</td>\n",
       "      <td>No</td>\n",
       "      <td>No</td>\n",
       "      <td>No</td>\n",
       "      <td>No</td>\n",
       "      <td>Month-to-month</td>\n",
       "      <td>Yes</td>\n",
       "      <td>Electronic check</td>\n",
       "      <td>29.85</td>\n",
       "      <td>29.85</td>\n",
       "      <td>No</td>\n",
       "    </tr>\n",
       "    <tr>\n",
       "      <th>1</th>\n",
       "      <td>5575-GNVDE</td>\n",
       "      <td>Male</td>\n",
       "      <td>0</td>\n",
       "      <td>No</td>\n",
       "      <td>No</td>\n",
       "      <td>34</td>\n",
       "      <td>Yes</td>\n",
       "      <td>No</td>\n",
       "      <td>DSL</td>\n",
       "      <td>Yes</td>\n",
       "      <td>...</td>\n",
       "      <td>Yes</td>\n",
       "      <td>No</td>\n",
       "      <td>No</td>\n",
       "      <td>No</td>\n",
       "      <td>One year</td>\n",
       "      <td>No</td>\n",
       "      <td>Mailed check</td>\n",
       "      <td>56.95</td>\n",
       "      <td>1889.5</td>\n",
       "      <td>No</td>\n",
       "    </tr>\n",
       "    <tr>\n",
       "      <th>2</th>\n",
       "      <td>3668-QPYBK</td>\n",
       "      <td>Male</td>\n",
       "      <td>0</td>\n",
       "      <td>No</td>\n",
       "      <td>No</td>\n",
       "      <td>2</td>\n",
       "      <td>Yes</td>\n",
       "      <td>No</td>\n",
       "      <td>DSL</td>\n",
       "      <td>Yes</td>\n",
       "      <td>...</td>\n",
       "      <td>No</td>\n",
       "      <td>No</td>\n",
       "      <td>No</td>\n",
       "      <td>No</td>\n",
       "      <td>Month-to-month</td>\n",
       "      <td>Yes</td>\n",
       "      <td>Mailed check</td>\n",
       "      <td>53.85</td>\n",
       "      <td>108.15</td>\n",
       "      <td>Yes</td>\n",
       "    </tr>\n",
       "    <tr>\n",
       "      <th>3</th>\n",
       "      <td>7795-CFOCW</td>\n",
       "      <td>Male</td>\n",
       "      <td>0</td>\n",
       "      <td>No</td>\n",
       "      <td>No</td>\n",
       "      <td>45</td>\n",
       "      <td>No</td>\n",
       "      <td>No phone service</td>\n",
       "      <td>DSL</td>\n",
       "      <td>Yes</td>\n",
       "      <td>...</td>\n",
       "      <td>Yes</td>\n",
       "      <td>Yes</td>\n",
       "      <td>No</td>\n",
       "      <td>No</td>\n",
       "      <td>One year</td>\n",
       "      <td>No</td>\n",
       "      <td>Bank transfer (automatic)</td>\n",
       "      <td>42.30</td>\n",
       "      <td>1840.75</td>\n",
       "      <td>No</td>\n",
       "    </tr>\n",
       "    <tr>\n",
       "      <th>4</th>\n",
       "      <td>9237-HQITU</td>\n",
       "      <td>Female</td>\n",
       "      <td>0</td>\n",
       "      <td>No</td>\n",
       "      <td>No</td>\n",
       "      <td>2</td>\n",
       "      <td>Yes</td>\n",
       "      <td>No</td>\n",
       "      <td>Fiber optic</td>\n",
       "      <td>No</td>\n",
       "      <td>...</td>\n",
       "      <td>No</td>\n",
       "      <td>No</td>\n",
       "      <td>No</td>\n",
       "      <td>No</td>\n",
       "      <td>Month-to-month</td>\n",
       "      <td>Yes</td>\n",
       "      <td>Electronic check</td>\n",
       "      <td>70.70</td>\n",
       "      <td>151.65</td>\n",
       "      <td>Yes</td>\n",
       "    </tr>\n",
       "  </tbody>\n",
       "</table>\n",
       "<p>5 rows × 21 columns</p>\n",
       "</div>"
      ],
      "text/plain": [
       "   customerID  gender  SeniorCitizen Partner Dependents  tenure PhoneService  \\\n",
       "0  7590-VHVEG  Female              0     Yes         No       1           No   \n",
       "1  5575-GNVDE    Male              0      No         No      34          Yes   \n",
       "2  3668-QPYBK    Male              0      No         No       2          Yes   \n",
       "3  7795-CFOCW    Male              0      No         No      45           No   \n",
       "4  9237-HQITU  Female              0      No         No       2          Yes   \n",
       "\n",
       "      MultipleLines InternetService OnlineSecurity  ... DeviceProtection  \\\n",
       "0  No phone service             DSL             No  ...               No   \n",
       "1                No             DSL            Yes  ...              Yes   \n",
       "2                No             DSL            Yes  ...               No   \n",
       "3  No phone service             DSL            Yes  ...              Yes   \n",
       "4                No     Fiber optic             No  ...               No   \n",
       "\n",
       "  TechSupport StreamingTV StreamingMovies        Contract PaperlessBilling  \\\n",
       "0          No          No              No  Month-to-month              Yes   \n",
       "1          No          No              No        One year               No   \n",
       "2          No          No              No  Month-to-month              Yes   \n",
       "3         Yes          No              No        One year               No   \n",
       "4          No          No              No  Month-to-month              Yes   \n",
       "\n",
       "               PaymentMethod MonthlyCharges  TotalCharges Churn  \n",
       "0           Electronic check          29.85         29.85    No  \n",
       "1               Mailed check          56.95        1889.5    No  \n",
       "2               Mailed check          53.85        108.15   Yes  \n",
       "3  Bank transfer (automatic)          42.30       1840.75    No  \n",
       "4           Electronic check          70.70        151.65   Yes  \n",
       "\n",
       "[5 rows x 21 columns]"
      ]
     },
     "execution_count": 2,
     "metadata": {},
     "output_type": "execute_result"
    }
   ],
   "source": [
    "df_raw = pd.read_csv('WA_Fn-UseC_-Telco-Customer-Churn.csv')\n",
    "df_raw.head()"
   ]
  },
  {
   "cell_type": "markdown",
   "id": "51f12ad6",
   "metadata": {},
   "source": [
    "## Verificação dos dados"
   ]
  },
  {
   "cell_type": "markdown",
   "id": "e753a231",
   "metadata": {},
   "source": [
    "### tamanho dos dados"
   ]
  },
  {
   "cell_type": "code",
   "execution_count": 3,
   "id": "80e5d924",
   "metadata": {},
   "outputs": [
    {
     "name": "stdout",
     "output_type": "stream",
     "text": [
      "Total de linhas:  7043\n",
      "Total de colunas:  21\n"
     ]
    }
   ],
   "source": [
    "print('Total de linhas: ', df_raw.shape[0])\n",
    "print('Total de colunas: ', df_raw.shape[1])"
   ]
  },
  {
   "cell_type": "markdown",
   "id": "5a0ac086",
   "metadata": {},
   "source": [
    "### vertificar dados faltantes"
   ]
  },
  {
   "cell_type": "code",
   "execution_count": 4,
   "id": "10f40c7f",
   "metadata": {},
   "outputs": [
    {
     "data": {
      "text/plain": [
       "customerID          0\n",
       "gender              0\n",
       "SeniorCitizen       0\n",
       "Partner             0\n",
       "Dependents          0\n",
       "tenure              0\n",
       "PhoneService        0\n",
       "MultipleLines       0\n",
       "InternetService     0\n",
       "OnlineSecurity      0\n",
       "OnlineBackup        0\n",
       "DeviceProtection    0\n",
       "TechSupport         0\n",
       "StreamingTV         0\n",
       "StreamingMovies     0\n",
       "Contract            0\n",
       "PaperlessBilling    0\n",
       "PaymentMethod       0\n",
       "MonthlyCharges      0\n",
       "TotalCharges        0\n",
       "Churn               0\n",
       "dtype: int64"
      ]
     },
     "execution_count": 4,
     "metadata": {},
     "output_type": "execute_result"
    }
   ],
   "source": [
    "df_raw.isnull().sum()"
   ]
  },
  {
   "cell_type": "markdown",
   "id": "3560e852",
   "metadata": {},
   "source": [
    "### verificar dados duplicados"
   ]
  },
  {
   "cell_type": "code",
   "execution_count": 5,
   "id": "2f283b35",
   "metadata": {},
   "outputs": [
    {
     "data": {
      "text/plain": [
       "0"
      ]
     },
     "execution_count": 5,
     "metadata": {},
     "output_type": "execute_result"
    }
   ],
   "source": [
    "df_raw.duplicated().sum()"
   ]
  },
  {
   "cell_type": "markdown",
   "id": "110423aa",
   "metadata": {},
   "source": [
    "### tipos dos dados"
   ]
  },
  {
   "cell_type": "code",
   "execution_count": 6,
   "id": "c673afe4",
   "metadata": {},
   "outputs": [
    {
     "data": {
      "text/plain": [
       "customerID           object\n",
       "gender               object\n",
       "SeniorCitizen         int64\n",
       "Partner              object\n",
       "Dependents           object\n",
       "tenure                int64\n",
       "PhoneService         object\n",
       "MultipleLines        object\n",
       "InternetService      object\n",
       "OnlineSecurity       object\n",
       "OnlineBackup         object\n",
       "DeviceProtection     object\n",
       "TechSupport          object\n",
       "StreamingTV          object\n",
       "StreamingMovies      object\n",
       "Contract             object\n",
       "PaperlessBilling     object\n",
       "PaymentMethod        object\n",
       "MonthlyCharges      float64\n",
       "TotalCharges         object\n",
       "Churn                object\n",
       "dtype: object"
      ]
     },
     "execution_count": 6,
     "metadata": {},
     "output_type": "execute_result"
    }
   ],
   "source": [
    "df_raw.dtypes"
   ]
  },
  {
   "cell_type": "markdown",
   "id": "6310bfb2",
   "metadata": {},
   "source": [
    "## Seleção de features"
   ]
  },
  {
   "cell_type": "markdown",
   "id": "52717a9a",
   "metadata": {},
   "source": [
    "**Não precisando do customerID**"
   ]
  },
  {
   "cell_type": "code",
   "execution_count": 7,
   "id": "7d219d42",
   "metadata": {},
   "outputs": [],
   "source": [
    "df = df_raw.copy()\n",
    "# não precisamos do customerID\n",
    "df = df.drop('customerID', axis = 1)\n",
    "#df = df.dropna(subset=['TotalCharges'])\n",
    "\n",
    "# a variavel TotalCharges está como categorico\n",
    "df['TotalCharges'] = df['TotalCharges'].replace(' ', 0).astype(float)\n"
   ]
  },
  {
   "cell_type": "code",
   "execution_count": 8,
   "id": "166bea6f",
   "metadata": {},
   "outputs": [
    {
     "name": "stderr",
     "output_type": "stream",
     "text": [
      "C:\\Users\\Ben-Hur\\anaconda3\\lib\\site-packages\\sklearn\\utils\\validation.py:1688: FutureWarning: Feature names only support names that are all strings. Got feature names with dtypes: ['int', 'str']. An error will be raised in 1.2.\n",
      "  warnings.warn(\n",
      "C:\\Users\\Ben-Hur\\anaconda3\\lib\\site-packages\\sklearn\\utils\\validation.py:1688: FutureWarning: Feature names only support names that are all strings. Got feature names with dtypes: ['int', 'str']. An error will be raised in 1.2.\n",
      "  warnings.warn(\n"
     ]
    },
    {
     "data": {
      "text/plain": [
       "array([[1.        , 0.        , 0.        , ..., 0.01388889, 0.11542289,\n",
       "        0.00343704],\n",
       "       [0.        , 1.        , 1.        , ..., 0.47222222, 0.38507463,\n",
       "        0.21756402],\n",
       "       [0.        , 1.        , 1.        , ..., 0.02777778, 0.35422886,\n",
       "        0.01245279],\n",
       "       ...,\n",
       "       [1.        , 0.        , 0.        , ..., 0.15277778, 0.11293532,\n",
       "        0.03989153],\n",
       "       [0.        , 1.        , 0.        , ..., 0.05555556, 0.55870647,\n",
       "        0.03530306],\n",
       "       [0.        , 1.        , 1.        , ..., 0.91666667, 0.86965174,\n",
       "        0.78810105]])"
      ]
     },
     "execution_count": 8,
     "metadata": {},
     "output_type": "execute_result"
    }
   ],
   "source": [
    "# target\n",
    "#y = df['Churn']\n",
    "y = pd.get_dummies(df['Churn'], drop_first = True)\n",
    "y['Target'] = y['Yes']\n",
    "y.drop('Yes', axis = 1, inplace=True)\n",
    "\n",
    "# x categorico\n",
    "onehotencoder = OneHotEncoder()\n",
    "variaveis_categoricas = df.select_dtypes(include=['object']).drop('Churn', axis=1)\n",
    "x_categorico = onehotencoder.fit_transform(variaveis_categoricas).toarray()\n",
    "x_categorico = pd.DataFrame(x_categorico)\n",
    "\n",
    "# x numerico\n",
    "variaveis_numericas = df.select_dtypes(include=['int','float'])\n",
    "x_numerico = variaveis_numericas\n",
    "\n",
    "# variavel categorica\n",
    "x_all = pd.concat([x_categorico, x_numerico], axis=1)\n",
    "scaler = MinMaxScaler()\n",
    "x = scaler.fit_transform(x_all)\n",
    "x\n"
   ]
  },
  {
   "cell_type": "code",
   "execution_count": 9,
   "id": "066d09bb",
   "metadata": {},
   "outputs": [],
   "source": [
    "x_train, x_test, y_train, y_test = train_test_split(x, y, test_size=.25)"
   ]
  },
  {
   "cell_type": "code",
   "execution_count": 10,
   "id": "2e0ad361",
   "metadata": {},
   "outputs": [
    {
     "data": {
      "text/plain": [
       "(5282, 45)"
      ]
     },
     "execution_count": 10,
     "metadata": {},
     "output_type": "execute_result"
    }
   ],
   "source": [
    "x_train.shape"
   ]
  },
  {
   "cell_type": "code",
   "execution_count": 11,
   "id": "52c6f1e6",
   "metadata": {},
   "outputs": [
    {
     "data": {
      "text/plain": [
       "(1761, 45)"
      ]
     },
     "execution_count": 11,
     "metadata": {},
     "output_type": "execute_result"
    }
   ],
   "source": [
    "x_test.shape"
   ]
  },
  {
   "cell_type": "code",
   "execution_count": 12,
   "id": "3a37444f",
   "metadata": {},
   "outputs": [
    {
     "data": {
      "text/plain": [
       "(5282, 1)"
      ]
     },
     "execution_count": 12,
     "metadata": {},
     "output_type": "execute_result"
    }
   ],
   "source": [
    "y_train.shape"
   ]
  },
  {
   "cell_type": "code",
   "execution_count": 13,
   "id": "2986f8d5",
   "metadata": {},
   "outputs": [
    {
     "data": {
      "text/plain": [
       "(1761, 1)"
      ]
     },
     "execution_count": 13,
     "metadata": {},
     "output_type": "execute_result"
    }
   ],
   "source": [
    "y_test.shape"
   ]
  },
  {
   "cell_type": "markdown",
   "id": "fb0c5285",
   "metadata": {},
   "source": [
    "## Regressão logistica"
   ]
  },
  {
   "cell_type": "code",
   "execution_count": 14,
   "id": "7a93daa1",
   "metadata": {},
   "outputs": [
    {
     "name": "stderr",
     "output_type": "stream",
     "text": [
      "C:\\Users\\Ben-Hur\\anaconda3\\lib\\site-packages\\sklearn\\utils\\validation.py:993: DataConversionWarning: A column-vector y was passed when a 1d array was expected. Please change the shape of y to (n_samples, ), for example using ravel().\n",
      "  y = column_or_1d(y, warn=True)\n",
      "C:\\Users\\Ben-Hur\\anaconda3\\lib\\site-packages\\sklearn\\linear_model\\_logistic.py:814: ConvergenceWarning: lbfgs failed to converge (status=1):\n",
      "STOP: TOTAL NO. of ITERATIONS REACHED LIMIT.\n",
      "\n",
      "Increase the number of iterations (max_iter) or scale the data as shown in:\n",
      "    https://scikit-learn.org/stable/modules/preprocessing.html\n",
      "Please also refer to the documentation for alternative solver options:\n",
      "    https://scikit-learn.org/stable/modules/linear_model.html#logistic-regression\n",
      "  n_iter_i = _check_optimize_result(\n"
     ]
    },
    {
     "data": {
      "text/plain": [
       "LogisticRegression()"
      ]
     },
     "execution_count": 14,
     "metadata": {},
     "output_type": "execute_result"
    }
   ],
   "source": [
    "logistic_model = LogisticRegression()\n",
    "logistic_model.fit(x_train, y_train)"
   ]
  },
  {
   "cell_type": "code",
   "execution_count": 15,
   "id": "e7ea74c6",
   "metadata": {},
   "outputs": [
    {
     "data": {
      "text/plain": [
       "array([1, 1, 0, ..., 0, 0, 0], dtype=uint8)"
      ]
     },
     "execution_count": 15,
     "metadata": {},
     "output_type": "execute_result"
    }
   ],
   "source": [
    "y_pred = logistic_model.predict(x_test)\n",
    "y_pred"
   ]
  },
  {
   "cell_type": "code",
   "execution_count": 16,
   "id": "983e2c14",
   "metadata": {},
   "outputs": [
    {
     "data": {
      "text/plain": [
       "0.8069278818852924"
      ]
     },
     "execution_count": 16,
     "metadata": {},
     "output_type": "execute_result"
    }
   ],
   "source": [
    "accuracy_score(y_test, y_pred)"
   ]
  },
  {
   "cell_type": "code",
   "execution_count": 17,
   "id": "0657ed12",
   "metadata": {},
   "outputs": [
    {
     "data": {
      "text/plain": [
       "array([[1172,  137],\n",
       "       [ 203,  249]], dtype=int64)"
      ]
     },
     "execution_count": 17,
     "metadata": {},
     "output_type": "execute_result"
    }
   ],
   "source": [
    "cm = confusion_matrix(y_test, y_pred)\n",
    "cm"
   ]
  },
  {
   "cell_type": "markdown",
   "id": "223635ff",
   "metadata": {},
   "source": [
    "## Arvore de decisão"
   ]
  },
  {
   "cell_type": "code",
   "execution_count": 43,
   "id": "8f0788d9",
   "metadata": {},
   "outputs": [
    {
     "name": "stdout",
     "output_type": "stream",
     "text": [
      "Wall time: 8.01 ms\n"
     ]
    },
    {
     "data": {
      "text/plain": [
       "DecisionTreeClassifier(max_depth=2, min_samples_leaf=5)"
      ]
     },
     "execution_count": 43,
     "metadata": {},
     "output_type": "execute_result"
    }
   ],
   "source": [
    "%%time\n",
    "tree_model = DecisionTreeClassifier(max_depth=2,\n",
    "                                   min_samples_leaf = 5)\n",
    "tree_model.fit(x_train, y_train)"
   ]
  },
  {
   "cell_type": "code",
   "execution_count": 44,
   "id": "1cf21188",
   "metadata": {},
   "outputs": [
    {
     "data": {
      "text/plain": [
       "array([1, 1, 0, ..., 0, 0, 0], dtype=uint8)"
      ]
     },
     "execution_count": 44,
     "metadata": {},
     "output_type": "execute_result"
    }
   ],
   "source": [
    "y_pred = tree_model.predict(x_test)\n",
    "y_pred"
   ]
  },
  {
   "cell_type": "code",
   "execution_count": null,
   "id": "bfa40175",
   "metadata": {},
   "outputs": [],
   "source": []
  },
  {
   "cell_type": "code",
   "execution_count": 23,
   "id": "50e026c9",
   "metadata": {},
   "outputs": [
    {
     "data": {
      "text/plain": [
       "0.7637705848949461"
      ]
     },
     "execution_count": 23,
     "metadata": {},
     "output_type": "execute_result"
    }
   ],
   "source": [
    "accuracy1 = accuracy_score(y_test, y_pred)"
   ]
  },
  {
   "cell_type": "code",
   "execution_count": 45,
   "id": "3bd632e7",
   "metadata": {},
   "outputs": [],
   "source": [
    "accuracy2 = accuracy_score(y_test, y_pred)"
   ]
  },
  {
   "cell_type": "code",
   "execution_count": 37,
   "id": "49d535f3",
   "metadata": {},
   "outputs": [
    {
     "data": {
      "text/plain": [
       "array([[1074,  235],\n",
       "       [ 181,  271]], dtype=int64)"
      ]
     },
     "execution_count": 37,
     "metadata": {},
     "output_type": "execute_result"
    }
   ],
   "source": [
    "cm = confusion_matrix(y_test, y_pred)\n",
    "cm"
   ]
  },
  {
   "cell_type": "code",
   "execution_count": 29,
   "id": "8a39ea1d",
   "metadata": {},
   "outputs": [],
   "source": [
    "def treina_arvore_decisao(x_train, y_train, x_test, y_test, max_d, min_s):\n",
    "    modelo = DecisionTreeClassifier(max_depth = max_d,\n",
    "                                   min_samples_leaf = min_s)\n",
    "    modelo.fit(x_train, y_train)\n",
    "    \n",
    "    y_pred = modelo.predict(x_test)\n",
    "    accuracy = accuracy_score(y_test, y_pred)\n",
    "    \n",
    "    return modelo, accuracy"
   ]
  },
  {
   "cell_type": "code",
   "execution_count": 38,
   "id": "bfee592c",
   "metadata": {
    "collapsed": true
   },
   "outputs": [
    {
     "name": "stdout",
     "output_type": "stream",
     "text": [
      "Treinando modelo 1\n",
      "Treinando modelo 2\n",
      "Treinando modelo 3\n",
      "Treinando modelo 4\n",
      "Treinando modelo 5\n",
      "Treinando modelo 6\n",
      "Treinando modelo 7\n",
      "Treinando modelo 8\n",
      "Treinando modelo 9\n",
      "Treinando modelo 10\n",
      "Treinando modelo 11\n",
      "Treinando modelo 12\n",
      "Treinando modelo 13\n",
      "Treinando modelo 14\n",
      "Treinando modelo 15\n",
      "Treinando modelo 16\n",
      "Treinando modelo 17\n",
      "Treinando modelo 18\n",
      "Treinando modelo 19\n",
      "Treinando modelo 20\n",
      "Treinando modelo 21\n",
      "Treinando modelo 22\n",
      "Treinando modelo 23\n",
      "Treinando modelo 24\n",
      "Treinando modelo 25\n",
      "Treinando modelo 26\n",
      "Treinando modelo 27\n",
      "Treinando modelo 28\n",
      "Treinando modelo 29\n",
      "Treinando modelo 30\n",
      "Treinando modelo 1\n",
      "Treinando modelo 2\n",
      "Treinando modelo 3\n",
      "Treinando modelo 4\n",
      "Treinando modelo 5\n",
      "Treinando modelo 6\n",
      "Treinando modelo 7\n",
      "Treinando modelo 8\n",
      "Treinando modelo 9\n",
      "Treinando modelo 10\n",
      "Treinando modelo 11\n",
      "Treinando modelo 12\n",
      "Treinando modelo 13\n",
      "Treinando modelo 14\n",
      "Treinando modelo 15\n",
      "Treinando modelo 16\n",
      "Treinando modelo 17\n",
      "Treinando modelo 18\n",
      "Treinando modelo 19\n",
      "Treinando modelo 20\n",
      "Treinando modelo 21\n",
      "Treinando modelo 22\n",
      "Treinando modelo 23\n",
      "Treinando modelo 24\n",
      "Treinando modelo 25\n",
      "Treinando modelo 26\n",
      "Treinando modelo 27\n",
      "Treinando modelo 28\n",
      "Treinando modelo 29\n",
      "Treinando modelo 30\n",
      "Treinando modelo 1\n",
      "Treinando modelo 2\n",
      "Treinando modelo 3\n",
      "Treinando modelo 4\n",
      "Treinando modelo 5\n",
      "Treinando modelo 6\n",
      "Treinando modelo 7\n",
      "Treinando modelo 8\n",
      "Treinando modelo 9\n",
      "Treinando modelo 10\n",
      "Treinando modelo 11\n",
      "Treinando modelo 12\n",
      "Treinando modelo 13\n",
      "Treinando modelo 14\n",
      "Treinando modelo 15\n",
      "Treinando modelo 16\n",
      "Treinando modelo 17\n",
      "Treinando modelo 18\n",
      "Treinando modelo 19\n",
      "Treinando modelo 20\n",
      "Treinando modelo 21\n",
      "Treinando modelo 22\n",
      "Treinando modelo 23\n",
      "Treinando modelo 24\n",
      "Treinando modelo 25\n",
      "Treinando modelo 26\n",
      "Treinando modelo 27\n",
      "Treinando modelo 28\n",
      "Treinando modelo 29\n",
      "Treinando modelo 30\n",
      "Treinando modelo 1\n",
      "Treinando modelo 2\n",
      "Treinando modelo 3\n",
      "Treinando modelo 4\n",
      "Treinando modelo 5\n",
      "Treinando modelo 6\n",
      "Treinando modelo 7\n",
      "Treinando modelo 8\n",
      "Treinando modelo 9\n",
      "Treinando modelo 10\n",
      "Treinando modelo 11\n",
      "Treinando modelo 12\n",
      "Treinando modelo 13\n",
      "Treinando modelo 14\n",
      "Treinando modelo 15\n",
      "Treinando modelo 16\n",
      "Treinando modelo 17\n",
      "Treinando modelo 18\n",
      "Treinando modelo 19\n",
      "Treinando modelo 20\n",
      "Treinando modelo 21\n",
      "Treinando modelo 22\n",
      "Treinando modelo 23\n",
      "Treinando modelo 24\n",
      "Treinando modelo 25\n",
      "Treinando modelo 26\n",
      "Treinando modelo 27\n",
      "Treinando modelo 28\n",
      "Treinando modelo 29\n",
      "Treinando modelo 30\n",
      "Treinando modelo 1\n",
      "Treinando modelo 2\n",
      "Treinando modelo 3\n",
      "Treinando modelo 4\n",
      "Treinando modelo 5\n",
      "Treinando modelo 6\n",
      "Treinando modelo 7\n",
      "Treinando modelo 8\n",
      "Treinando modelo 9\n",
      "Treinando modelo 10\n",
      "Treinando modelo 11\n",
      "Treinando modelo 12\n",
      "Treinando modelo 13\n",
      "Treinando modelo 14\n",
      "Treinando modelo 15\n",
      "Treinando modelo 16\n",
      "Treinando modelo 17\n",
      "Treinando modelo 18\n",
      "Treinando modelo 19\n",
      "Treinando modelo 20\n",
      "Treinando modelo 21\n",
      "Treinando modelo 22\n",
      "Treinando modelo 23\n",
      "Treinando modelo 24\n",
      "Treinando modelo 25\n",
      "Treinando modelo 26\n",
      "Treinando modelo 27\n",
      "Treinando modelo 28\n",
      "Treinando modelo 29\n",
      "Treinando modelo 30\n",
      "Treinando modelo 1\n",
      "Treinando modelo 2\n",
      "Treinando modelo 3\n",
      "Treinando modelo 4\n",
      "Treinando modelo 5\n",
      "Treinando modelo 6\n",
      "Treinando modelo 7\n",
      "Treinando modelo 8\n",
      "Treinando modelo 9\n",
      "Treinando modelo 10\n",
      "Treinando modelo 11\n",
      "Treinando modelo 12\n",
      "Treinando modelo 13\n",
      "Treinando modelo 14\n",
      "Treinando modelo 15\n",
      "Treinando modelo 16\n",
      "Treinando modelo 17\n",
      "Treinando modelo 18\n",
      "Treinando modelo 19\n",
      "Treinando modelo 20\n",
      "Treinando modelo 21\n",
      "Treinando modelo 22\n",
      "Treinando modelo 23\n",
      "Treinando modelo 24\n",
      "Treinando modelo 25\n",
      "Treinando modelo 26\n",
      "Treinando modelo 27\n",
      "Treinando modelo 28\n",
      "Treinando modelo 29\n",
      "Treinando modelo 30\n",
      "Treinando modelo 1\n",
      "Treinando modelo 2\n",
      "Treinando modelo 3\n",
      "Treinando modelo 4\n",
      "Treinando modelo 5\n",
      "Treinando modelo 6\n",
      "Treinando modelo 7\n",
      "Treinando modelo 8\n",
      "Treinando modelo 9\n",
      "Treinando modelo 10\n",
      "Treinando modelo 11\n",
      "Treinando modelo 12\n",
      "Treinando modelo 13\n",
      "Treinando modelo 14\n",
      "Treinando modelo 15\n",
      "Treinando modelo 16\n",
      "Treinando modelo 17\n",
      "Treinando modelo 18\n",
      "Treinando modelo 19\n",
      "Treinando modelo 20\n",
      "Treinando modelo 21\n",
      "Treinando modelo 22\n",
      "Treinando modelo 23\n",
      "Treinando modelo 24\n",
      "Treinando modelo 25\n",
      "Treinando modelo 26\n",
      "Treinando modelo 27\n",
      "Treinando modelo 28\n",
      "Treinando modelo 29\n",
      "Treinando modelo 30\n",
      "Treinando modelo 1\n",
      "Treinando modelo 2\n",
      "Treinando modelo 3\n",
      "Treinando modelo 4\n",
      "Treinando modelo 5\n",
      "Treinando modelo 6\n",
      "Treinando modelo 7\n",
      "Treinando modelo 8\n",
      "Treinando modelo 9\n",
      "Treinando modelo 10\n",
      "Treinando modelo 11\n",
      "Treinando modelo 12\n",
      "Treinando modelo 13\n",
      "Treinando modelo 14\n",
      "Treinando modelo 15\n",
      "Treinando modelo 16\n",
      "Treinando modelo 17\n",
      "Treinando modelo 18\n",
      "Treinando modelo 19\n",
      "Treinando modelo 20\n",
      "Treinando modelo 21\n",
      "Treinando modelo 22\n",
      "Treinando modelo 23\n",
      "Treinando modelo 24\n",
      "Treinando modelo 25\n",
      "Treinando modelo 26\n",
      "Treinando modelo 27\n",
      "Treinando modelo 28\n",
      "Treinando modelo 29\n",
      "Treinando modelo 30\n",
      "Treinando modelo 1\n",
      "Treinando modelo 2\n",
      "Treinando modelo 3\n",
      "Treinando modelo 4\n",
      "Treinando modelo 5\n",
      "Treinando modelo 6\n",
      "Treinando modelo 7\n",
      "Treinando modelo 8\n",
      "Treinando modelo 9\n",
      "Treinando modelo 10\n",
      "Treinando modelo 11\n",
      "Treinando modelo 12\n",
      "Treinando modelo 13\n",
      "Treinando modelo 14\n",
      "Treinando modelo 15\n",
      "Treinando modelo 16\n",
      "Treinando modelo 17\n",
      "Treinando modelo 18\n",
      "Treinando modelo 19\n",
      "Treinando modelo 20\n",
      "Treinando modelo 21\n",
      "Treinando modelo 22\n",
      "Treinando modelo 23\n",
      "Treinando modelo 24\n",
      "Treinando modelo 25\n",
      "Treinando modelo 26\n",
      "Treinando modelo 27\n",
      "Treinando modelo 28\n",
      "Treinando modelo 29\n",
      "Treinando modelo 30\n",
      "Wall time: 3.73 s\n"
     ]
    }
   ],
   "source": [
    "%%time\n",
    "modelo_list = list()\n",
    "max_d = list()\n",
    "min_s = list()\n",
    "accuracy_list = list()\n",
    "\n",
    "for d in range(1,10):\n",
    "    for s in range(1 ,31):\n",
    "        print('Treinando modelo', s)\n",
    "        max_d.append(d)\n",
    "        min_s.append(s)\n",
    "        modelo, accuracy = treina_arvore_decisao(x_train, y_train, x_test, y_test, d, s)\n",
    "        \n",
    "        modelo_list.append(modelo)\n",
    "        accuracy_list.append(accuracy)\n",
    "        \n",
    "busca_ad = pd.DataFrame(list(zip(max_d, min_s, accuracy_list, modelo_list)),\n",
    "                       columns = ['Max Deph', 'Min Sample Leaf', 'Accuracy', 'Modelo'])\n",
    "#busca_ad"
   ]
  },
  {
   "cell_type": "code",
   "execution_count": 39,
   "id": "7b303a6f",
   "metadata": {},
   "outputs": [
    {
     "data": {
      "text/html": [
       "<div>\n",
       "<style scoped>\n",
       "    .dataframe tbody tr th:only-of-type {\n",
       "        vertical-align: middle;\n",
       "    }\n",
       "\n",
       "    .dataframe tbody tr th {\n",
       "        vertical-align: top;\n",
       "    }\n",
       "\n",
       "    .dataframe thead th {\n",
       "        text-align: right;\n",
       "    }\n",
       "</style>\n",
       "<table border=\"1\" class=\"dataframe\">\n",
       "  <thead>\n",
       "    <tr style=\"text-align: right;\">\n",
       "      <th></th>\n",
       "      <th>Max Deph</th>\n",
       "      <th>Min Sample Leaf</th>\n",
       "      <th>Accuracy</th>\n",
       "      <th>Modelo</th>\n",
       "    </tr>\n",
       "  </thead>\n",
       "  <tbody>\n",
       "    <tr>\n",
       "      <th>109</th>\n",
       "      <td>4</td>\n",
       "      <td>20</td>\n",
       "      <td>0.797274</td>\n",
       "      <td>DecisionTreeClassifier(max_depth=4, min_sample...</td>\n",
       "    </tr>\n",
       "    <tr>\n",
       "      <th>119</th>\n",
       "      <td>4</td>\n",
       "      <td>30</td>\n",
       "      <td>0.797274</td>\n",
       "      <td>DecisionTreeClassifier(max_depth=4, min_sample...</td>\n",
       "    </tr>\n",
       "    <tr>\n",
       "      <th>118</th>\n",
       "      <td>4</td>\n",
       "      <td>29</td>\n",
       "      <td>0.797274</td>\n",
       "      <td>DecisionTreeClassifier(max_depth=4, min_sample...</td>\n",
       "    </tr>\n",
       "    <tr>\n",
       "      <th>117</th>\n",
       "      <td>4</td>\n",
       "      <td>28</td>\n",
       "      <td>0.797274</td>\n",
       "      <td>DecisionTreeClassifier(max_depth=4, min_sample...</td>\n",
       "    </tr>\n",
       "    <tr>\n",
       "      <th>116</th>\n",
       "      <td>4</td>\n",
       "      <td>27</td>\n",
       "      <td>0.797274</td>\n",
       "      <td>DecisionTreeClassifier(max_depth=4, min_sample...</td>\n",
       "    </tr>\n",
       "    <tr>\n",
       "      <th>...</th>\n",
       "      <td>...</td>\n",
       "      <td>...</td>\n",
       "      <td>...</td>\n",
       "      <td>...</td>\n",
       "    </tr>\n",
       "    <tr>\n",
       "      <th>15</th>\n",
       "      <td>1</td>\n",
       "      <td>16</td>\n",
       "      <td>0.743328</td>\n",
       "      <td>DecisionTreeClassifier(max_depth=1, min_sample...</td>\n",
       "    </tr>\n",
       "    <tr>\n",
       "      <th>14</th>\n",
       "      <td>1</td>\n",
       "      <td>15</td>\n",
       "      <td>0.743328</td>\n",
       "      <td>DecisionTreeClassifier(max_depth=1, min_sample...</td>\n",
       "    </tr>\n",
       "    <tr>\n",
       "      <th>13</th>\n",
       "      <td>1</td>\n",
       "      <td>14</td>\n",
       "      <td>0.743328</td>\n",
       "      <td>DecisionTreeClassifier(max_depth=1, min_sample...</td>\n",
       "    </tr>\n",
       "    <tr>\n",
       "      <th>12</th>\n",
       "      <td>1</td>\n",
       "      <td>13</td>\n",
       "      <td>0.743328</td>\n",
       "      <td>DecisionTreeClassifier(max_depth=1, min_sample...</td>\n",
       "    </tr>\n",
       "    <tr>\n",
       "      <th>0</th>\n",
       "      <td>1</td>\n",
       "      <td>1</td>\n",
       "      <td>0.743328</td>\n",
       "      <td>DecisionTreeClassifier(max_depth=1)</td>\n",
       "    </tr>\n",
       "  </tbody>\n",
       "</table>\n",
       "<p>270 rows × 4 columns</p>\n",
       "</div>"
      ],
      "text/plain": [
       "     Max Deph  Min Sample Leaf  Accuracy  \\\n",
       "109         4               20  0.797274   \n",
       "119         4               30  0.797274   \n",
       "118         4               29  0.797274   \n",
       "117         4               28  0.797274   \n",
       "116         4               27  0.797274   \n",
       "..        ...              ...       ...   \n",
       "15          1               16  0.743328   \n",
       "14          1               15  0.743328   \n",
       "13          1               14  0.743328   \n",
       "12          1               13  0.743328   \n",
       "0           1                1  0.743328   \n",
       "\n",
       "                                                Modelo  \n",
       "109  DecisionTreeClassifier(max_depth=4, min_sample...  \n",
       "119  DecisionTreeClassifier(max_depth=4, min_sample...  \n",
       "118  DecisionTreeClassifier(max_depth=4, min_sample...  \n",
       "117  DecisionTreeClassifier(max_depth=4, min_sample...  \n",
       "116  DecisionTreeClassifier(max_depth=4, min_sample...  \n",
       "..                                                 ...  \n",
       "15   DecisionTreeClassifier(max_depth=1, min_sample...  \n",
       "14   DecisionTreeClassifier(max_depth=1, min_sample...  \n",
       "13   DecisionTreeClassifier(max_depth=1, min_sample...  \n",
       "12   DecisionTreeClassifier(max_depth=1, min_sample...  \n",
       "0                  DecisionTreeClassifier(max_depth=1)  \n",
       "\n",
       "[270 rows x 4 columns]"
      ]
     },
     "execution_count": 39,
     "metadata": {},
     "output_type": "execute_result"
    }
   ],
   "source": [
    "busca_ad.sort_values('Accuracy', ascending=False)"
   ]
  },
  {
   "cell_type": "code",
   "execution_count": 41,
   "id": "9a5c752d",
   "metadata": {},
   "outputs": [],
   "source": [
    "modelo_selecionado = busca_ad.iloc[109]['Modelo']"
   ]
  },
  {
   "cell_type": "markdown",
   "id": "d1530b18",
   "metadata": {},
   "source": [
    "## Redes Neurais"
   ]
  },
  {
   "cell_type": "code",
   "execution_count": null,
   "id": "f0107abd",
   "metadata": {},
   "outputs": [],
   "source": []
  },
  {
   "cell_type": "code",
   "execution_count": null,
   "id": "e372b730",
   "metadata": {},
   "outputs": [],
   "source": []
  },
  {
   "cell_type": "code",
   "execution_count": null,
   "id": "1a7a96bb",
   "metadata": {},
   "outputs": [],
   "source": []
  },
  {
   "cell_type": "code",
   "execution_count": null,
   "id": "99492af8",
   "metadata": {},
   "outputs": [],
   "source": []
  },
  {
   "cell_type": "code",
   "execution_count": null,
   "id": "d1a44f87",
   "metadata": {},
   "outputs": [],
   "source": []
  },
  {
   "cell_type": "code",
   "execution_count": null,
   "id": "d02e7536",
   "metadata": {},
   "outputs": [],
   "source": []
  },
  {
   "cell_type": "code",
   "execution_count": null,
   "id": "91bc50e9",
   "metadata": {},
   "outputs": [],
   "source": []
  },
  {
   "cell_type": "code",
   "execution_count": null,
   "id": "f6b56315",
   "metadata": {},
   "outputs": [],
   "source": []
  }
 ],
 "metadata": {
  "kernelspec": {
   "display_name": "Python 3 (ipykernel)",
   "language": "python",
   "name": "python3"
  },
  "language_info": {
   "codemirror_mode": {
    "name": "ipython",
    "version": 3
   },
   "file_extension": ".py",
   "mimetype": "text/x-python",
   "name": "python",
   "nbconvert_exporter": "python",
   "pygments_lexer": "ipython3",
   "version": "3.9.13"
  }
 },
 "nbformat": 4,
 "nbformat_minor": 5
}
